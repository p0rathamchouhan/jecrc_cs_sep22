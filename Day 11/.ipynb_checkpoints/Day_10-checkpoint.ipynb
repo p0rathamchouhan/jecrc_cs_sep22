{
 "cells": [
  {
   "cell_type": "code",
   "execution_count": null,
   "id": "1b3b48f2-ab0a-4b85-b8d8-e31786190d4e",
   "metadata": {},
   "outputs": [],
   "source": [
    "import pandas as pd"
   ]
  },
  {
   "cell_type": "code",
   "execution_count": null,
   "id": "869f13c3-fdfb-40e1-9f1f-fa395f9de905",
   "metadata": {},
   "outputs": [],
   "source": [
    "movies =pd.read_clipboard()"
   ]
  },
  {
   "cell_type": "markdown",
   "id": "03458352-26ac-499f-aeea-4d76078dc4b2",
   "metadata": {},
   "source": [
    "movies"
   ]
  },
  {
   "cell_type": "code",
   "execution_count": 26,
   "id": "782ef0e8-978d-4916-b98a-b8f09b49f50d",
   "metadata": {},
   "outputs": [],
   "source": [
    "movies=pd.read_csv(r'myMovies.csv')"
   ]
  },
  {
   "cell_type": "code",
   "execution_count": 27,
   "id": "8dee1b7c-428a-4120-92fb-9a04e76991f4",
   "metadata": {},
   "outputs": [
    {
     "data": {
      "text/html": [
       "<div>\n",
       "<style scoped>\n",
       "    .dataframe tbody tr th:only-of-type {\n",
       "        vertical-align: middle;\n",
       "    }\n",
       "\n",
       "    .dataframe tbody tr th {\n",
       "        vertical-align: top;\n",
       "    }\n",
       "\n",
       "    .dataframe thead th {\n",
       "        text-align: right;\n",
       "    }\n",
       "</style>\n",
       "<table border=\"1\" class=\"dataframe\">\n",
       "  <thead>\n",
       "    <tr style=\"text-align: right;\">\n",
       "      <th></th>\n",
       "      <th>id</th>\n",
       "      <th>name</th>\n",
       "      <th>industry</th>\n",
       "      <th>genre</th>\n",
       "      <th>language</th>\n",
       "      <th>duration</th>\n",
       "      <th>rarting</th>\n",
       "    </tr>\n",
       "  </thead>\n",
       "  <tbody>\n",
       "    <tr>\n",
       "      <th>0</th>\n",
       "      <td>1</td>\n",
       "      <td>Baahubali</td>\n",
       "      <td>Tollywood</td>\n",
       "      <td>Action</td>\n",
       "      <td>Telegu</td>\n",
       "      <td>170</td>\n",
       "      <td>9.5</td>\n",
       "    </tr>\n",
       "    <tr>\n",
       "      <th>1</th>\n",
       "      <td>2</td>\n",
       "      <td>Brahmastra</td>\n",
       "      <td>Bollywood</td>\n",
       "      <td>Mystereous</td>\n",
       "      <td>Hindi</td>\n",
       "      <td>180</td>\n",
       "      <td>5.0</td>\n",
       "    </tr>\n",
       "    <tr>\n",
       "      <th>2</th>\n",
       "      <td>3</td>\n",
       "      <td>Uri-The Surgical Strike</td>\n",
       "      <td>Bollywood</td>\n",
       "      <td>Action</td>\n",
       "      <td>Hindi</td>\n",
       "      <td>120</td>\n",
       "      <td>10.0</td>\n",
       "    </tr>\n",
       "    <tr>\n",
       "      <th>3</th>\n",
       "      <td>4</td>\n",
       "      <td>DDLJ</td>\n",
       "      <td>Bollywood</td>\n",
       "      <td>Romantic</td>\n",
       "      <td>Hindi</td>\n",
       "      <td>150</td>\n",
       "      <td>10.0</td>\n",
       "    </tr>\n",
       "    <tr>\n",
       "      <th>4</th>\n",
       "      <td>5</td>\n",
       "      <td>Avengers-End Game</td>\n",
       "      <td>Hollywood</td>\n",
       "      <td>Action</td>\n",
       "      <td>English</td>\n",
       "      <td>180</td>\n",
       "      <td>9.0</td>\n",
       "    </tr>\n",
       "    <tr>\n",
       "      <th>5</th>\n",
       "      <td>6</td>\n",
       "      <td>Tenet</td>\n",
       "      <td>Hollywood</td>\n",
       "      <td>SciFi</td>\n",
       "      <td>English</td>\n",
       "      <td>150</td>\n",
       "      <td>8.5</td>\n",
       "    </tr>\n",
       "    <tr>\n",
       "      <th>6</th>\n",
       "      <td>7</td>\n",
       "      <td>Major</td>\n",
       "      <td>Bollywood</td>\n",
       "      <td>Action</td>\n",
       "      <td>Hindi</td>\n",
       "      <td>140</td>\n",
       "      <td>8.0</td>\n",
       "    </tr>\n",
       "    <tr>\n",
       "      <th>7</th>\n",
       "      <td>8</td>\n",
       "      <td>Intersteller</td>\n",
       "      <td>Hollywood</td>\n",
       "      <td>SciFi</td>\n",
       "      <td>English</td>\n",
       "      <td>190</td>\n",
       "      <td>7.0</td>\n",
       "    </tr>\n",
       "    <tr>\n",
       "      <th>8</th>\n",
       "      <td>9</td>\n",
       "      <td>Gravity</td>\n",
       "      <td>Hollywood</td>\n",
       "      <td>SciFi</td>\n",
       "      <td>English</td>\n",
       "      <td>130</td>\n",
       "      <td>6.0</td>\n",
       "    </tr>\n",
       "    <tr>\n",
       "      <th>9</th>\n",
       "      <td>10</td>\n",
       "      <td>Titanic</td>\n",
       "      <td>Hollywood</td>\n",
       "      <td>Drama</td>\n",
       "      <td>English</td>\n",
       "      <td>180</td>\n",
       "      <td>9.0</td>\n",
       "    </tr>\n",
       "    <tr>\n",
       "      <th>10</th>\n",
       "      <td>11</td>\n",
       "      <td>Yeh Jawani Hai Deewani</td>\n",
       "      <td>Bollywood</td>\n",
       "      <td>Romantic</td>\n",
       "      <td>Hindi</td>\n",
       "      <td>150</td>\n",
       "      <td>5.0</td>\n",
       "    </tr>\n",
       "    <tr>\n",
       "      <th>11</th>\n",
       "      <td>12</td>\n",
       "      <td>Housefull</td>\n",
       "      <td>Bollywood</td>\n",
       "      <td>Comedy</td>\n",
       "      <td>English</td>\n",
       "      <td>150</td>\n",
       "      <td>6.0</td>\n",
       "    </tr>\n",
       "    <tr>\n",
       "      <th>12</th>\n",
       "      <td>13</td>\n",
       "      <td>The Dictator</td>\n",
       "      <td>Hollywood</td>\n",
       "      <td>Comedy</td>\n",
       "      <td>English</td>\n",
       "      <td>120</td>\n",
       "      <td>7.0</td>\n",
       "    </tr>\n",
       "    <tr>\n",
       "      <th>13</th>\n",
       "      <td>14</td>\n",
       "      <td>Hera Pheri</td>\n",
       "      <td>Bollywood</td>\n",
       "      <td>Comedy</td>\n",
       "      <td>Hindi</td>\n",
       "      <td>140</td>\n",
       "      <td>9.0</td>\n",
       "    </tr>\n",
       "    <tr>\n",
       "      <th>14</th>\n",
       "      <td>15</td>\n",
       "      <td>Sholay</td>\n",
       "      <td>Bollywood</td>\n",
       "      <td>Drama</td>\n",
       "      <td>Hindi</td>\n",
       "      <td>150</td>\n",
       "      <td>8.5</td>\n",
       "    </tr>\n",
       "  </tbody>\n",
       "</table>\n",
       "</div>"
      ],
      "text/plain": [
       "    id                     name   industry       genre language  duration  \\\n",
       "0    1                Baahubali  Tollywood      Action   Telegu       170   \n",
       "1    2               Brahmastra  Bollywood  Mystereous    Hindi       180   \n",
       "2    3  Uri-The Surgical Strike  Bollywood      Action    Hindi       120   \n",
       "3    4                     DDLJ  Bollywood    Romantic    Hindi       150   \n",
       "4    5        Avengers-End Game  Hollywood      Action  English       180   \n",
       "5    6                    Tenet  Hollywood       SciFi  English       150   \n",
       "6    7                    Major  Bollywood      Action    Hindi       140   \n",
       "7    8             Intersteller  Hollywood       SciFi  English       190   \n",
       "8    9                  Gravity  Hollywood       SciFi  English       130   \n",
       "9   10                  Titanic  Hollywood       Drama  English       180   \n",
       "10  11   Yeh Jawani Hai Deewani  Bollywood    Romantic    Hindi       150   \n",
       "11  12                Housefull  Bollywood      Comedy  English       150   \n",
       "12  13             The Dictator  Hollywood      Comedy  English       120   \n",
       "13  14               Hera Pheri  Bollywood      Comedy    Hindi       140   \n",
       "14  15                   Sholay  Bollywood       Drama    Hindi       150   \n",
       "\n",
       "    rarting  \n",
       "0       9.5  \n",
       "1       5.0  \n",
       "2      10.0  \n",
       "3      10.0  \n",
       "4       9.0  \n",
       "5       8.5  \n",
       "6       8.0  \n",
       "7       7.0  \n",
       "8       6.0  \n",
       "9       9.0  \n",
       "10      5.0  \n",
       "11      6.0  \n",
       "12      7.0  \n",
       "13      9.0  \n",
       "14      8.5  "
      ]
     },
     "execution_count": 27,
     "metadata": {},
     "output_type": "execute_result"
    }
   ],
   "source": [
    "movies"
   ]
  },
  {
   "cell_type": "code",
   "execution_count": 28,
   "id": "c3af77c9-5cd1-4135-af52-936590a2dd4b",
   "metadata": {},
   "outputs": [
    {
     "data": {
      "text/plain": [
       "7"
      ]
     },
     "execution_count": 28,
     "metadata": {},
     "output_type": "execute_result"
    }
   ],
   "source": [
    "movies['duration'].argmax()"
   ]
  },
  {
   "cell_type": "code",
   "execution_count": 29,
   "id": "49e2c066-fa2c-42bf-b51d-b5319b3d15aa",
   "metadata": {},
   "outputs": [
    {
     "data": {
      "text/plain": [
       "'Intersteller'"
      ]
     },
     "execution_count": 29,
     "metadata": {},
     "output_type": "execute_result"
    }
   ],
   "source": [
    "movies['name'][7]"
   ]
  },
  {
   "cell_type": "code",
   "execution_count": 30,
   "id": "26a008ed-c0a5-481c-be7d-b5385e318747",
   "metadata": {},
   "outputs": [],
   "source": [
    "# 1. Find the longest movie name?"
   ]
  },
  {
   "cell_type": "code",
   "execution_count": 31,
   "id": "f413c02c-ed45-4d2a-a9c8-f9c5f7cf879f",
   "metadata": {},
   "outputs": [
    {
     "data": {
      "text/plain": [
       "'Intersteller'"
      ]
     },
     "execution_count": 31,
     "metadata": {},
     "output_type": "execute_result"
    }
   ],
   "source": [
    "movies['name'][movies['duration'].argmax()]"
   ]
  },
  {
   "cell_type": "code",
   "execution_count": 32,
   "id": "33e9b0e2-0f4c-4d69-9f3b-996a79fd49c5",
   "metadata": {},
   "outputs": [],
   "source": [
    "# 2. Find the number of movies whon got 10 star rating "
   ]
  },
  {
   "cell_type": "code",
   "execution_count": 33,
   "id": "96597615-3a99-4157-8bcc-674a603524dd",
   "metadata": {
    "tags": []
   },
   "outputs": [
    {
     "data": {
      "text/plain": [
       "2    Uri-The Surgical Strike\n",
       "3                       DDLJ\n",
       "Name: name, dtype: object"
      ]
     },
     "execution_count": 33,
     "metadata": {},
     "output_type": "execute_result"
    }
   ],
   "source": [
    "movies['name'][movies['rarting']==10]"
   ]
  },
  {
   "cell_type": "code",
   "execution_count": 34,
   "id": "2da2c473-7017-4131-a326-278aed8b8efb",
   "metadata": {},
   "outputs": [
    {
     "data": {
      "text/plain": [
       "2"
      ]
     },
     "execution_count": 34,
     "metadata": {},
     "output_type": "execute_result"
    }
   ],
   "source": [
    "len(movies['name'][movies['rarting']==10])"
   ]
  },
  {
   "cell_type": "code",
   "execution_count": 35,
   "id": "efca8ed8-3661-4cbf-ba4d-9a7486f730d9",
   "metadata": {},
   "outputs": [
    {
     "data": {
      "text/plain": [
       "2"
      ]
     },
     "execution_count": 35,
     "metadata": {},
     "output_type": "execute_result"
    }
   ],
   "source": [
    "sum( movies['rarting']==10)"
   ]
  },
  {
   "cell_type": "code",
   "execution_count": 36,
   "id": "983b3c72-9a65-42a1-b933-ae0321881f81",
   "metadata": {},
   "outputs": [],
   "source": [
    "# 3. How many industries are there"
   ]
  },
  {
   "cell_type": "code",
   "execution_count": 37,
   "id": "e568e700-501a-4c28-a278-feb2cae8dede",
   "metadata": {},
   "outputs": [
    {
     "data": {
      "text/plain": [
       "Bollywood    8\n",
       "Hollywood    6\n",
       "Tollywood    1\n",
       "Name: industry, dtype: int64"
      ]
     },
     "execution_count": 37,
     "metadata": {},
     "output_type": "execute_result"
    }
   ],
   "source": [
    "movies['industry'].value_counts()"
   ]
  },
  {
   "cell_type": "code",
   "execution_count": 38,
   "id": "15951464-12c4-4949-a233-9ab6f7721f03",
   "metadata": {},
   "outputs": [
    {
     "data": {
      "text/plain": [
       "pandas.core.series.Series"
      ]
     },
     "execution_count": 38,
     "metadata": {},
     "output_type": "execute_result"
    }
   ],
   "source": [
    "type(movies['industry'].value_counts())"
   ]
  },
  {
   "cell_type": "markdown",
   "id": "69658c59-7bad-48d4-aa09-aa7773ad31fd",
   "metadata": {},
   "source": [
    "# Best "
   ]
  },
  {
   "cell_type": "code",
   "execution_count": 39,
   "id": "14eab472-9c8a-48b1-8bb1-ed7eeb700610",
   "metadata": {},
   "outputs": [
    {
     "data": {
      "text/plain": [
       "3"
      ]
     },
     "execution_count": 39,
     "metadata": {},
     "output_type": "execute_result"
    }
   ],
   "source": [
    "len(movies['industry'].value_counts())"
   ]
  },
  {
   "cell_type": "code",
   "execution_count": 40,
   "id": "a2a02afd-bb61-4272-923b-0ff059e0b2e2",
   "metadata": {},
   "outputs": [
    {
     "data": {
      "text/plain": [
       "3"
      ]
     },
     "execution_count": 40,
     "metadata": {},
     "output_type": "execute_result"
    }
   ],
   "source": [
    "movies['industry'].nunique()"
   ]
  },
  {
   "cell_type": "code",
   "execution_count": 41,
   "id": "4f08bf22-a08e-4d9a-9526-7c501747e7d1",
   "metadata": {},
   "outputs": [
    {
     "data": {
      "text/plain": [
       "array(['Tollywood', 'Bollywood', 'Hollywood'], dtype=object)"
      ]
     },
     "execution_count": 41,
     "metadata": {},
     "output_type": "execute_result"
    }
   ],
   "source": [
    "movies['industry'].unique()"
   ]
  },
  {
   "cell_type": "markdown",
   "id": "a4231981-957c-4d4c-bf9e-9a6fad6053d0",
   "metadata": {
    "tags": []
   },
   "source": [
    "#### 4. Find Least Liked Comedy Movie?"
   ]
  },
  {
   "cell_type": "code",
   "execution_count": 42,
   "id": "e5a40c97-b289-43e9-8a79-89ba13796b82",
   "metadata": {},
   "outputs": [
    {
     "data": {
      "text/plain": [
       "11    6.0\n",
       "12    7.0\n",
       "13    9.0\n",
       "Name: rarting, dtype: float64"
      ]
     },
     "execution_count": 42,
     "metadata": {},
     "output_type": "execute_result"
    }
   ],
   "source": [
    "movies[movies['genre']=='Comedy']['rarting']"
   ]
  },
  {
   "cell_type": "code",
   "execution_count": 43,
   "id": "7b882f1b-b0d4-402c-a938-535c4616bdfe",
   "metadata": {},
   "outputs": [
    {
     "data": {
      "text/plain": [
       "'Housefull'"
      ]
     },
     "execution_count": 43,
     "metadata": {},
     "output_type": "execute_result"
    }
   ],
   "source": [
    "movies['name'][movies[movies['genre']=='Comedy']['rarting'].idxmin()]"
   ]
  },
  {
   "cell_type": "markdown",
   "id": "ffefe9b1-a21b-498d-851d-ea4823d7c74a",
   "metadata": {},
   "source": [
    "#### 5. Lonegst english Movie Name"
   ]
  },
  {
   "cell_type": "code",
   "execution_count": 44,
   "id": "23b4bee6-62b4-45fc-8ea5-f99aebf334bd",
   "metadata": {},
   "outputs": [
    {
     "data": {
      "text/plain": [
       "'Intersteller'"
      ]
     },
     "execution_count": 44,
     "metadata": {},
     "output_type": "execute_result"
    }
   ],
   "source": [
    "movies['name'][movies[movies['language']=='English']['duration'].idxmax()]"
   ]
  },
  {
   "cell_type": "markdown",
   "id": "c164a5be",
   "metadata": {},
   "source": [
    "### 6. What is the Genre of interstellar"
   ]
  },
  {
   "cell_type": "code",
   "execution_count": 45,
   "id": "ee824326",
   "metadata": {},
   "outputs": [
    {
     "data": {
      "text/plain": [
       "7    SciFi\n",
       "Name: genre, dtype: object"
      ]
     },
     "execution_count": 45,
     "metadata": {},
     "output_type": "execute_result"
    }
   ],
   "source": [
    "movies['genre'][movies['name']=='Intersteller']"
   ]
  },
  {
   "cell_type": "code",
   "execution_count": 46,
   "id": "659167dd",
   "metadata": {},
   "outputs": [
    {
     "data": {
      "text/plain": [
       "'SciFi'"
      ]
     },
     "execution_count": 46,
     "metadata": {},
     "output_type": "execute_result"
    }
   ],
   "source": [
    "movies['genre'][movies['name']=='Intersteller'].values[0]"
   ]
  },
  {
   "cell_type": "code",
   "execution_count": 47,
   "id": "b662e2d1",
   "metadata": {},
   "outputs": [
    {
     "data": {
      "text/plain": [
       "0                   Baahubali\n",
       "1                  Brahmastra\n",
       "2     Uri-The Surgical Strike\n",
       "3                        DDLJ\n",
       "4           Avengers-End Game\n",
       "5                       Tenet\n",
       "6                       Major\n",
       "7                Intersteller\n",
       "8                     Gravity\n",
       "9                     Titanic\n",
       "10     Yeh Jawani Hai Deewani\n",
       "11                  Housefull\n",
       "12               The Dictator\n",
       "13                 Hera Pheri\n",
       "14                     Sholay\n",
       "Name: name, dtype: object"
      ]
     },
     "execution_count": 47,
     "metadata": {},
     "output_type": "execute_result"
    }
   ],
   "source": [
    "movies['name']"
   ]
  },
  {
   "cell_type": "code",
   "execution_count": 48,
   "id": "cd9bb00b",
   "metadata": {},
   "outputs": [
    {
     "ename": "SyntaxError",
     "evalue": "unexpected EOF while parsing (1214181049.py, line 1)",
     "output_type": "error",
     "traceback": [
      "\u001b[1;36m  Input \u001b[1;32mIn [48]\u001b[1;36m\u001b[0m\n\u001b[1;33m    [movies['name'].str.lower()\u001b[0m\n\u001b[1;37m                               ^\u001b[0m\n\u001b[1;31mSyntaxError\u001b[0m\u001b[1;31m:\u001b[0m unexpected EOF while parsing\n"
     ]
    }
   ],
   "source": [
    "[movies['name'].str.lower()"
   ]
  },
  {
   "cell_type": "code",
   "execution_count": 49,
   "id": "ed9c17d7",
   "metadata": {},
   "outputs": [
    {
     "data": {
      "text/plain": [
       "'SciFi'"
      ]
     },
     "execution_count": 49,
     "metadata": {},
     "output_type": "execute_result"
    }
   ],
   "source": [
    "movies['genre'][movies['name'].str.lower()=='Intersteller'.lower()].values[0]"
   ]
  },
  {
   "cell_type": "code",
   "execution_count": 50,
   "id": "e2d10627",
   "metadata": {},
   "outputs": [
    {
     "data": {
      "text/html": [
       "<div>\n",
       "<style scoped>\n",
       "    .dataframe tbody tr th:only-of-type {\n",
       "        vertical-align: middle;\n",
       "    }\n",
       "\n",
       "    .dataframe tbody tr th {\n",
       "        vertical-align: top;\n",
       "    }\n",
       "\n",
       "    .dataframe thead th {\n",
       "        text-align: right;\n",
       "    }\n",
       "</style>\n",
       "<table border=\"1\" class=\"dataframe\">\n",
       "  <thead>\n",
       "    <tr style=\"text-align: right;\">\n",
       "      <th></th>\n",
       "      <th>Avengers-End Game</th>\n",
       "      <th>Baahubali</th>\n",
       "      <th>Brahmastra</th>\n",
       "      <th>DDLJ</th>\n",
       "      <th>Gravity</th>\n",
       "      <th>Hera Pheri</th>\n",
       "      <th>Housefull</th>\n",
       "      <th>Intersteller</th>\n",
       "      <th>Major</th>\n",
       "      <th>Sholay</th>\n",
       "      <th>Tenet</th>\n",
       "      <th>The Dictator</th>\n",
       "      <th>Titanic</th>\n",
       "      <th>Uri-The Surgical Strike</th>\n",
       "      <th>Yeh Jawani Hai Deewani</th>\n",
       "    </tr>\n",
       "  </thead>\n",
       "  <tbody>\n",
       "    <tr>\n",
       "      <th>0</th>\n",
       "      <td>0</td>\n",
       "      <td>1</td>\n",
       "      <td>0</td>\n",
       "      <td>0</td>\n",
       "      <td>0</td>\n",
       "      <td>0</td>\n",
       "      <td>0</td>\n",
       "      <td>0</td>\n",
       "      <td>0</td>\n",
       "      <td>0</td>\n",
       "      <td>0</td>\n",
       "      <td>0</td>\n",
       "      <td>0</td>\n",
       "      <td>0</td>\n",
       "      <td>0</td>\n",
       "    </tr>\n",
       "    <tr>\n",
       "      <th>1</th>\n",
       "      <td>0</td>\n",
       "      <td>0</td>\n",
       "      <td>1</td>\n",
       "      <td>0</td>\n",
       "      <td>0</td>\n",
       "      <td>0</td>\n",
       "      <td>0</td>\n",
       "      <td>0</td>\n",
       "      <td>0</td>\n",
       "      <td>0</td>\n",
       "      <td>0</td>\n",
       "      <td>0</td>\n",
       "      <td>0</td>\n",
       "      <td>0</td>\n",
       "      <td>0</td>\n",
       "    </tr>\n",
       "    <tr>\n",
       "      <th>2</th>\n",
       "      <td>0</td>\n",
       "      <td>0</td>\n",
       "      <td>0</td>\n",
       "      <td>0</td>\n",
       "      <td>0</td>\n",
       "      <td>0</td>\n",
       "      <td>0</td>\n",
       "      <td>0</td>\n",
       "      <td>0</td>\n",
       "      <td>0</td>\n",
       "      <td>0</td>\n",
       "      <td>0</td>\n",
       "      <td>0</td>\n",
       "      <td>1</td>\n",
       "      <td>0</td>\n",
       "    </tr>\n",
       "    <tr>\n",
       "      <th>3</th>\n",
       "      <td>0</td>\n",
       "      <td>0</td>\n",
       "      <td>0</td>\n",
       "      <td>1</td>\n",
       "      <td>0</td>\n",
       "      <td>0</td>\n",
       "      <td>0</td>\n",
       "      <td>0</td>\n",
       "      <td>0</td>\n",
       "      <td>0</td>\n",
       "      <td>0</td>\n",
       "      <td>0</td>\n",
       "      <td>0</td>\n",
       "      <td>0</td>\n",
       "      <td>0</td>\n",
       "    </tr>\n",
       "    <tr>\n",
       "      <th>4</th>\n",
       "      <td>1</td>\n",
       "      <td>0</td>\n",
       "      <td>0</td>\n",
       "      <td>0</td>\n",
       "      <td>0</td>\n",
       "      <td>0</td>\n",
       "      <td>0</td>\n",
       "      <td>0</td>\n",
       "      <td>0</td>\n",
       "      <td>0</td>\n",
       "      <td>0</td>\n",
       "      <td>0</td>\n",
       "      <td>0</td>\n",
       "      <td>0</td>\n",
       "      <td>0</td>\n",
       "    </tr>\n",
       "    <tr>\n",
       "      <th>5</th>\n",
       "      <td>0</td>\n",
       "      <td>0</td>\n",
       "      <td>0</td>\n",
       "      <td>0</td>\n",
       "      <td>0</td>\n",
       "      <td>0</td>\n",
       "      <td>0</td>\n",
       "      <td>0</td>\n",
       "      <td>0</td>\n",
       "      <td>0</td>\n",
       "      <td>1</td>\n",
       "      <td>0</td>\n",
       "      <td>0</td>\n",
       "      <td>0</td>\n",
       "      <td>0</td>\n",
       "    </tr>\n",
       "    <tr>\n",
       "      <th>6</th>\n",
       "      <td>0</td>\n",
       "      <td>0</td>\n",
       "      <td>0</td>\n",
       "      <td>0</td>\n",
       "      <td>0</td>\n",
       "      <td>0</td>\n",
       "      <td>0</td>\n",
       "      <td>0</td>\n",
       "      <td>1</td>\n",
       "      <td>0</td>\n",
       "      <td>0</td>\n",
       "      <td>0</td>\n",
       "      <td>0</td>\n",
       "      <td>0</td>\n",
       "      <td>0</td>\n",
       "    </tr>\n",
       "    <tr>\n",
       "      <th>7</th>\n",
       "      <td>0</td>\n",
       "      <td>0</td>\n",
       "      <td>0</td>\n",
       "      <td>0</td>\n",
       "      <td>0</td>\n",
       "      <td>0</td>\n",
       "      <td>0</td>\n",
       "      <td>1</td>\n",
       "      <td>0</td>\n",
       "      <td>0</td>\n",
       "      <td>0</td>\n",
       "      <td>0</td>\n",
       "      <td>0</td>\n",
       "      <td>0</td>\n",
       "      <td>0</td>\n",
       "    </tr>\n",
       "    <tr>\n",
       "      <th>8</th>\n",
       "      <td>0</td>\n",
       "      <td>0</td>\n",
       "      <td>0</td>\n",
       "      <td>0</td>\n",
       "      <td>1</td>\n",
       "      <td>0</td>\n",
       "      <td>0</td>\n",
       "      <td>0</td>\n",
       "      <td>0</td>\n",
       "      <td>0</td>\n",
       "      <td>0</td>\n",
       "      <td>0</td>\n",
       "      <td>0</td>\n",
       "      <td>0</td>\n",
       "      <td>0</td>\n",
       "    </tr>\n",
       "    <tr>\n",
       "      <th>9</th>\n",
       "      <td>0</td>\n",
       "      <td>0</td>\n",
       "      <td>0</td>\n",
       "      <td>0</td>\n",
       "      <td>0</td>\n",
       "      <td>0</td>\n",
       "      <td>0</td>\n",
       "      <td>0</td>\n",
       "      <td>0</td>\n",
       "      <td>0</td>\n",
       "      <td>0</td>\n",
       "      <td>0</td>\n",
       "      <td>1</td>\n",
       "      <td>0</td>\n",
       "      <td>0</td>\n",
       "    </tr>\n",
       "    <tr>\n",
       "      <th>10</th>\n",
       "      <td>0</td>\n",
       "      <td>0</td>\n",
       "      <td>0</td>\n",
       "      <td>0</td>\n",
       "      <td>0</td>\n",
       "      <td>0</td>\n",
       "      <td>0</td>\n",
       "      <td>0</td>\n",
       "      <td>0</td>\n",
       "      <td>0</td>\n",
       "      <td>0</td>\n",
       "      <td>0</td>\n",
       "      <td>0</td>\n",
       "      <td>0</td>\n",
       "      <td>1</td>\n",
       "    </tr>\n",
       "    <tr>\n",
       "      <th>11</th>\n",
       "      <td>0</td>\n",
       "      <td>0</td>\n",
       "      <td>0</td>\n",
       "      <td>0</td>\n",
       "      <td>0</td>\n",
       "      <td>0</td>\n",
       "      <td>1</td>\n",
       "      <td>0</td>\n",
       "      <td>0</td>\n",
       "      <td>0</td>\n",
       "      <td>0</td>\n",
       "      <td>0</td>\n",
       "      <td>0</td>\n",
       "      <td>0</td>\n",
       "      <td>0</td>\n",
       "    </tr>\n",
       "    <tr>\n",
       "      <th>12</th>\n",
       "      <td>0</td>\n",
       "      <td>0</td>\n",
       "      <td>0</td>\n",
       "      <td>0</td>\n",
       "      <td>0</td>\n",
       "      <td>0</td>\n",
       "      <td>0</td>\n",
       "      <td>0</td>\n",
       "      <td>0</td>\n",
       "      <td>0</td>\n",
       "      <td>0</td>\n",
       "      <td>1</td>\n",
       "      <td>0</td>\n",
       "      <td>0</td>\n",
       "      <td>0</td>\n",
       "    </tr>\n",
       "    <tr>\n",
       "      <th>13</th>\n",
       "      <td>0</td>\n",
       "      <td>0</td>\n",
       "      <td>0</td>\n",
       "      <td>0</td>\n",
       "      <td>0</td>\n",
       "      <td>1</td>\n",
       "      <td>0</td>\n",
       "      <td>0</td>\n",
       "      <td>0</td>\n",
       "      <td>0</td>\n",
       "      <td>0</td>\n",
       "      <td>0</td>\n",
       "      <td>0</td>\n",
       "      <td>0</td>\n",
       "      <td>0</td>\n",
       "    </tr>\n",
       "    <tr>\n",
       "      <th>14</th>\n",
       "      <td>0</td>\n",
       "      <td>0</td>\n",
       "      <td>0</td>\n",
       "      <td>0</td>\n",
       "      <td>0</td>\n",
       "      <td>0</td>\n",
       "      <td>0</td>\n",
       "      <td>0</td>\n",
       "      <td>0</td>\n",
       "      <td>1</td>\n",
       "      <td>0</td>\n",
       "      <td>0</td>\n",
       "      <td>0</td>\n",
       "      <td>0</td>\n",
       "      <td>0</td>\n",
       "    </tr>\n",
       "  </tbody>\n",
       "</table>\n",
       "</div>"
      ],
      "text/plain": [
       "    Avengers-End Game  Baahubali  Brahmastra  DDLJ  Gravity  Hera Pheri  \\\n",
       "0                   0          1           0     0        0           0   \n",
       "1                   0          0           1     0        0           0   \n",
       "2                   0          0           0     0        0           0   \n",
       "3                   0          0           0     1        0           0   \n",
       "4                   1          0           0     0        0           0   \n",
       "5                   0          0           0     0        0           0   \n",
       "6                   0          0           0     0        0           0   \n",
       "7                   0          0           0     0        0           0   \n",
       "8                   0          0           0     0        1           0   \n",
       "9                   0          0           0     0        0           0   \n",
       "10                  0          0           0     0        0           0   \n",
       "11                  0          0           0     0        0           0   \n",
       "12                  0          0           0     0        0           0   \n",
       "13                  0          0           0     0        0           1   \n",
       "14                  0          0           0     0        0           0   \n",
       "\n",
       "    Housefull  Intersteller  Major  Sholay  Tenet  The Dictator  Titanic  \\\n",
       "0           0             0      0       0      0             0        0   \n",
       "1           0             0      0       0      0             0        0   \n",
       "2           0             0      0       0      0             0        0   \n",
       "3           0             0      0       0      0             0        0   \n",
       "4           0             0      0       0      0             0        0   \n",
       "5           0             0      0       0      1             0        0   \n",
       "6           0             0      1       0      0             0        0   \n",
       "7           0             1      0       0      0             0        0   \n",
       "8           0             0      0       0      0             0        0   \n",
       "9           0             0      0       0      0             0        1   \n",
       "10          0             0      0       0      0             0        0   \n",
       "11          1             0      0       0      0             0        0   \n",
       "12          0             0      0       0      0             1        0   \n",
       "13          0             0      0       0      0             0        0   \n",
       "14          0             0      0       1      0             0        0   \n",
       "\n",
       "    Uri-The Surgical Strike  Yeh Jawani Hai Deewani  \n",
       "0                         0                       0  \n",
       "1                         0                       0  \n",
       "2                         1                       0  \n",
       "3                         0                       0  \n",
       "4                         0                       0  \n",
       "5                         0                       0  \n",
       "6                         0                       0  \n",
       "7                         0                       0  \n",
       "8                         0                       0  \n",
       "9                         0                       0  \n",
       "10                        0                       1  \n",
       "11                        0                       0  \n",
       "12                        0                       0  \n",
       "13                        0                       0  \n",
       "14                        0                       0  "
      ]
     },
     "execution_count": 50,
     "metadata": {},
     "output_type": "execute_result"
    }
   ],
   "source": [
    "movies['name'].str.get_dummies()"
   ]
  },
  {
   "cell_type": "code",
   "execution_count": 51,
   "id": "fe7749f8",
   "metadata": {},
   "outputs": [
    {
     "data": {
      "text/html": [
       "<div>\n",
       "<style scoped>\n",
       "    .dataframe tbody tr th:only-of-type {\n",
       "        vertical-align: middle;\n",
       "    }\n",
       "\n",
       "    .dataframe tbody tr th {\n",
       "        vertical-align: top;\n",
       "    }\n",
       "\n",
       "    .dataframe thead th {\n",
       "        text-align: right;\n",
       "    }\n",
       "</style>\n",
       "<table border=\"1\" class=\"dataframe\">\n",
       "  <thead>\n",
       "    <tr style=\"text-align: right;\">\n",
       "      <th></th>\n",
       "      <th>Action</th>\n",
       "      <th>Comedy</th>\n",
       "      <th>Drama</th>\n",
       "      <th>Mystereous</th>\n",
       "      <th>Romantic</th>\n",
       "      <th>SciFi</th>\n",
       "    </tr>\n",
       "  </thead>\n",
       "  <tbody>\n",
       "    <tr>\n",
       "      <th>0</th>\n",
       "      <td>1</td>\n",
       "      <td>0</td>\n",
       "      <td>0</td>\n",
       "      <td>0</td>\n",
       "      <td>0</td>\n",
       "      <td>0</td>\n",
       "    </tr>\n",
       "    <tr>\n",
       "      <th>1</th>\n",
       "      <td>0</td>\n",
       "      <td>0</td>\n",
       "      <td>0</td>\n",
       "      <td>1</td>\n",
       "      <td>0</td>\n",
       "      <td>0</td>\n",
       "    </tr>\n",
       "    <tr>\n",
       "      <th>2</th>\n",
       "      <td>1</td>\n",
       "      <td>0</td>\n",
       "      <td>0</td>\n",
       "      <td>0</td>\n",
       "      <td>0</td>\n",
       "      <td>0</td>\n",
       "    </tr>\n",
       "    <tr>\n",
       "      <th>3</th>\n",
       "      <td>0</td>\n",
       "      <td>0</td>\n",
       "      <td>0</td>\n",
       "      <td>0</td>\n",
       "      <td>1</td>\n",
       "      <td>0</td>\n",
       "    </tr>\n",
       "    <tr>\n",
       "      <th>4</th>\n",
       "      <td>1</td>\n",
       "      <td>0</td>\n",
       "      <td>0</td>\n",
       "      <td>0</td>\n",
       "      <td>0</td>\n",
       "      <td>0</td>\n",
       "    </tr>\n",
       "    <tr>\n",
       "      <th>5</th>\n",
       "      <td>0</td>\n",
       "      <td>0</td>\n",
       "      <td>0</td>\n",
       "      <td>0</td>\n",
       "      <td>0</td>\n",
       "      <td>1</td>\n",
       "    </tr>\n",
       "    <tr>\n",
       "      <th>6</th>\n",
       "      <td>1</td>\n",
       "      <td>0</td>\n",
       "      <td>0</td>\n",
       "      <td>0</td>\n",
       "      <td>0</td>\n",
       "      <td>0</td>\n",
       "    </tr>\n",
       "    <tr>\n",
       "      <th>7</th>\n",
       "      <td>0</td>\n",
       "      <td>0</td>\n",
       "      <td>0</td>\n",
       "      <td>0</td>\n",
       "      <td>0</td>\n",
       "      <td>1</td>\n",
       "    </tr>\n",
       "    <tr>\n",
       "      <th>8</th>\n",
       "      <td>0</td>\n",
       "      <td>0</td>\n",
       "      <td>0</td>\n",
       "      <td>0</td>\n",
       "      <td>0</td>\n",
       "      <td>1</td>\n",
       "    </tr>\n",
       "    <tr>\n",
       "      <th>9</th>\n",
       "      <td>0</td>\n",
       "      <td>0</td>\n",
       "      <td>1</td>\n",
       "      <td>0</td>\n",
       "      <td>0</td>\n",
       "      <td>0</td>\n",
       "    </tr>\n",
       "    <tr>\n",
       "      <th>10</th>\n",
       "      <td>0</td>\n",
       "      <td>0</td>\n",
       "      <td>0</td>\n",
       "      <td>0</td>\n",
       "      <td>1</td>\n",
       "      <td>0</td>\n",
       "    </tr>\n",
       "    <tr>\n",
       "      <th>11</th>\n",
       "      <td>0</td>\n",
       "      <td>1</td>\n",
       "      <td>0</td>\n",
       "      <td>0</td>\n",
       "      <td>0</td>\n",
       "      <td>0</td>\n",
       "    </tr>\n",
       "    <tr>\n",
       "      <th>12</th>\n",
       "      <td>0</td>\n",
       "      <td>1</td>\n",
       "      <td>0</td>\n",
       "      <td>0</td>\n",
       "      <td>0</td>\n",
       "      <td>0</td>\n",
       "    </tr>\n",
       "    <tr>\n",
       "      <th>13</th>\n",
       "      <td>0</td>\n",
       "      <td>1</td>\n",
       "      <td>0</td>\n",
       "      <td>0</td>\n",
       "      <td>0</td>\n",
       "      <td>0</td>\n",
       "    </tr>\n",
       "    <tr>\n",
       "      <th>14</th>\n",
       "      <td>0</td>\n",
       "      <td>0</td>\n",
       "      <td>1</td>\n",
       "      <td>0</td>\n",
       "      <td>0</td>\n",
       "      <td>0</td>\n",
       "    </tr>\n",
       "  </tbody>\n",
       "</table>\n",
       "</div>"
      ],
      "text/plain": [
       "    Action  Comedy  Drama  Mystereous  Romantic  SciFi\n",
       "0        1       0      0           0         0      0\n",
       "1        0       0      0           1         0      0\n",
       "2        1       0      0           0         0      0\n",
       "3        0       0      0           0         1      0\n",
       "4        1       0      0           0         0      0\n",
       "5        0       0      0           0         0      1\n",
       "6        1       0      0           0         0      0\n",
       "7        0       0      0           0         0      1\n",
       "8        0       0      0           0         0      1\n",
       "9        0       0      1           0         0      0\n",
       "10       0       0      0           0         1      0\n",
       "11       0       1      0           0         0      0\n",
       "12       0       1      0           0         0      0\n",
       "13       0       1      0           0         0      0\n",
       "14       0       0      1           0         0      0"
      ]
     },
     "execution_count": 51,
     "metadata": {},
     "output_type": "execute_result"
    }
   ],
   "source": [
    "movies['genre'].str.get_dummies()"
   ]
  },
  {
   "cell_type": "markdown",
   "id": "097b80c0-ce1c-4b93-a089-50b09ea64d94",
   "metadata": {},
   "source": [
    "### names.index('e')"
   ]
  },
  {
   "cell_type": "code",
   "execution_count": 52,
   "id": "f9e16f21-f40f-466f-a4a0-02dd7fd97b4e",
   "metadata": {},
   "outputs": [
    {
     "data": {
      "text/plain": [
       "0                              Baahubali\n",
       "1                             Brahmastra\n",
       "2        Uri-Th--+-- Surgical Strik--+--\n",
       "3                                   DDLJ\n",
       "4          Av--+--ng--+--rs-End Gam--+--\n",
       "5                          T--+--n--+--t\n",
       "6                                  Major\n",
       "7               Int--+--rst--+--ll--+--r\n",
       "8                                Gravity\n",
       "9                                Titanic\n",
       "10    Y--+--h Jawani Hai D--+----+--wani\n",
       "11                         Hous--+--full\n",
       "12                      Th--+-- Dictator\n",
       "13                    H--+--ra Ph--+--ri\n",
       "14                                Sholay\n",
       "Name: name, dtype: object"
      ]
     },
     "execution_count": 52,
     "metadata": {},
     "output_type": "execute_result"
    }
   ],
   "source": [
    "movies['name'].str.split('e').str.join('--+--')"
   ]
  },
  {
   "cell_type": "code",
   "execution_count": 53,
   "id": "7200b110-aaac-4d56-91ae-a23f357e158e",
   "metadata": {},
   "outputs": [
    {
     "data": {
      "text/plain": [
       "0                   Baahubali\n",
       "1                  Brahmastra\n",
       "2     Uri-The Surgical Strike\n",
       "3                        DDLJ\n",
       "4           Avengers-End Game\n",
       "5                       Tenet\n",
       "6                       Major\n",
       "7                Intersteller\n",
       "8                     Gravity\n",
       "9                     Titanic\n",
       "10     Yeh Jawani Hai Deewani\n",
       "11                  Housefull\n",
       "12               The Dictator\n",
       "13                 Hera Pheri\n",
       "14                     Sholay\n",
       "Name: name, dtype: object"
      ]
     },
     "execution_count": 53,
     "metadata": {},
     "output_type": "execute_result"
    }
   ],
   "source": [
    "movies['name'].str.strip()"
   ]
  },
  {
   "cell_type": "code",
   "execution_count": 54,
   "id": "c5d9878d-855c-4516-8939-bbd113d549db",
   "metadata": {},
   "outputs": [
    {
     "data": {
      "text/plain": [
       "0                    Baahubal\n",
       "1                  Brahmastra\n",
       "2     Uri-The Surgical Strike\n",
       "3                        DDLJ\n",
       "4           Avengers-End Game\n",
       "5                       Tenet\n",
       "6                       Major\n",
       "7                Intersteller\n",
       "8                     Gravity\n",
       "9                     Titanic\n",
       "10      Yeh Jawani Hai Deewan\n",
       "11                  Housefull\n",
       "12               The Dictator\n",
       "13                  Hera Pher\n",
       "14                     Sholay\n",
       "Name: name, dtype: object"
      ]
     },
     "execution_count": 54,
     "metadata": {},
     "output_type": "execute_result"
    }
   ],
   "source": [
    "movies['name'].str.strip('i')"
   ]
  },
  {
   "cell_type": "code",
   "execution_count": 55,
   "id": "5226f303-78d3-4650-b140-b6f5df212e20",
   "metadata": {},
   "outputs": [
    {
     "data": {
      "text/plain": [
       "'SciFi'"
      ]
     },
     "execution_count": 55,
     "metadata": {},
     "output_type": "execute_result"
    }
   ],
   "source": [
    "movies['genre'][movies['name'].str.strip().str.lower()=='Intersteller'.lower()].values[0]"
   ]
  },
  {
   "cell_type": "markdown",
   "id": "5275952c-e277-4baf-a569-84120581fdbd",
   "metadata": {},
   "source": [
    "## 7. What is the average duration og each genre"
   ]
  },
  {
   "cell_type": "code",
   "execution_count": 56,
   "id": "14409a2c-62ea-4c36-93c5-e9dbf68fe080",
   "metadata": {},
   "outputs": [
    {
     "data": {
      "text/plain": [
       "array(['Action', 'Mystereous', 'Romantic', 'SciFi', 'Drama', 'Comedy'],\n",
       "      dtype=object)"
      ]
     },
     "execution_count": 56,
     "metadata": {},
     "output_type": "execute_result"
    }
   ],
   "source": [
    "movies['genre'].unique()"
   ]
  },
  {
   "cell_type": "code",
   "execution_count": 57,
   "id": "ffaaeb03-0c3a-48f1-8c10-5e0a7bd96d6b",
   "metadata": {},
   "outputs": [
    {
     "data": {
      "text/plain": [
       "6"
      ]
     },
     "execution_count": 57,
     "metadata": {},
     "output_type": "execute_result"
    }
   ],
   "source": [
    "movies['genre'].nunique()"
   ]
  },
  {
   "cell_type": "code",
   "execution_count": 58,
   "id": "46b956b3-10a4-4422-add2-faaa0d2338d9",
   "metadata": {},
   "outputs": [
    {
     "ename": "SyntaxError",
     "evalue": "invalid syntax (3118800665.py, line 1)",
     "output_type": "error",
     "traceback": [
      "\u001b[1;36m  Input \u001b[1;32mIn [58]\u001b[1;36m\u001b[0m\n\u001b[1;33m    movies['genre'].()\u001b[0m\n\u001b[1;37m                    ^\u001b[0m\n\u001b[1;31mSyntaxError\u001b[0m\u001b[1;31m:\u001b[0m invalid syntax\n"
     ]
    }
   ],
   "source": [
    "movies['genre'].()"
   ]
  },
  {
   "cell_type": "code",
   "execution_count": 59,
   "id": "717489d4-64f8-482c-b45a-8e1a0e70a5ed",
   "metadata": {},
   "outputs": [
    {
     "name": "stdout",
     "output_type": "stream",
     "text": [
      "Action\n",
      "Mystereous\n",
      "Romantic\n",
      "SciFi\n",
      "Drama\n",
      "Comedy\n"
     ]
    }
   ],
   "source": [
    "for genre in movies['genre'].unique():\n",
    "    print(genre)"
   ]
  },
  {
   "cell_type": "code",
   "execution_count": 60,
   "id": "382cfa25-7623-43c6-9591-33d0d57e28aa",
   "metadata": {},
   "outputs": [
    {
     "name": "stdout",
     "output_type": "stream",
     "text": [
      "Action 152.5\n",
      "Mystereous 180.0\n",
      "Romantic 150.0\n",
      "SciFi 156.66666666666666\n",
      "Drama 165.0\n",
      "Comedy 136.66666666666666\n"
     ]
    }
   ],
   "source": [
    "for genre in movies['genre'].unique():\n",
    "    print(genre,movies[movies['genre']==genre]['duration'].mean())"
   ]
  },
  {
   "cell_type": "markdown",
   "id": "dc26b845-e67a-4160-8d4f-28459db44450",
   "metadata": {},
   "source": [
    "# groupby "
   ]
  },
  {
   "cell_type": "code",
   "execution_count": 61,
   "id": "696efeec-6b89-439a-8cc6-c5bbdaad5f3a",
   "metadata": {},
   "outputs": [
    {
     "data": {
      "text/plain": [
       "genre\n",
       "Action        152.500000\n",
       "Comedy        136.666667\n",
       "Drama         165.000000\n",
       "Mystereous    180.000000\n",
       "Romantic      150.000000\n",
       "SciFi         156.666667\n",
       "Name: duration, dtype: float64"
      ]
     },
     "execution_count": 61,
     "metadata": {},
     "output_type": "execute_result"
    }
   ],
   "source": [
    "movies.groupby('genre')['duration'].mean()"
   ]
  },
  {
   "cell_type": "code",
   "execution_count": 62,
   "id": "597509c6-517a-4f59-92a3-0e03181783ad",
   "metadata": {},
   "outputs": [
    {
     "data": {
      "text/plain": [
       "genre       industry \n",
       "Action      Bollywood    130.000000\n",
       "            Hollywood    180.000000\n",
       "            Tollywood    170.000000\n",
       "Comedy      Bollywood    145.000000\n",
       "            Hollywood    120.000000\n",
       "Drama       Bollywood    150.000000\n",
       "            Hollywood    180.000000\n",
       "Mystereous  Bollywood    180.000000\n",
       "Romantic    Bollywood    150.000000\n",
       "SciFi       Hollywood    156.666667\n",
       "Name: duration, dtype: float64"
      ]
     },
     "execution_count": 62,
     "metadata": {},
     "output_type": "execute_result"
    }
   ],
   "source": [
    "movies.groupby(['genre','industry'])['duration'].mean()"
   ]
  },
  {
   "cell_type": "code",
   "execution_count": 63,
   "id": "2375cd7d-54c6-45f0-b897-e4689669f460",
   "metadata": {},
   "outputs": [
    {
     "data": {
      "text/plain": [
       "industry   genre     \n",
       "Bollywood  Action        130.000000\n",
       "           Comedy        145.000000\n",
       "           Drama         150.000000\n",
       "           Mystereous    180.000000\n",
       "           Romantic      150.000000\n",
       "Hollywood  Action        180.000000\n",
       "           Comedy        120.000000\n",
       "           Drama         180.000000\n",
       "           SciFi         156.666667\n",
       "Tollywood  Action        170.000000\n",
       "Name: duration, dtype: float64"
      ]
     },
     "execution_count": 63,
     "metadata": {},
     "output_type": "execute_result"
    }
   ],
   "source": [
    "movies.groupby(['industry','genre'])['duration'].mean()"
   ]
  },
  {
   "cell_type": "markdown",
   "id": "b72d1334-6ee4-4997-8af7-3f55d32921cb",
   "metadata": {},
   "source": [
    "# describe function"
   ]
  },
  {
   "cell_type": "code",
   "execution_count": 64,
   "id": "f4006f47-6f8f-49c7-bfc0-6abaad95a573",
   "metadata": {},
   "outputs": [
    {
     "data": {
      "text/html": [
       "<div>\n",
       "<style scoped>\n",
       "    .dataframe tbody tr th:only-of-type {\n",
       "        vertical-align: middle;\n",
       "    }\n",
       "\n",
       "    .dataframe tbody tr th {\n",
       "        vertical-align: top;\n",
       "    }\n",
       "\n",
       "    .dataframe thead th {\n",
       "        text-align: right;\n",
       "    }\n",
       "</style>\n",
       "<table border=\"1\" class=\"dataframe\">\n",
       "  <thead>\n",
       "    <tr style=\"text-align: right;\">\n",
       "      <th></th>\n",
       "      <th>id</th>\n",
       "      <th>duration</th>\n",
       "      <th>rarting</th>\n",
       "    </tr>\n",
       "  </thead>\n",
       "  <tbody>\n",
       "    <tr>\n",
       "      <th>count</th>\n",
       "      <td>15.000000</td>\n",
       "      <td>15.000000</td>\n",
       "      <td>15.000000</td>\n",
       "    </tr>\n",
       "    <tr>\n",
       "      <th>mean</th>\n",
       "      <td>8.000000</td>\n",
       "      <td>153.333333</td>\n",
       "      <td>7.833333</td>\n",
       "    </tr>\n",
       "    <tr>\n",
       "      <th>std</th>\n",
       "      <td>4.472136</td>\n",
       "      <td>22.253946</td>\n",
       "      <td>1.718249</td>\n",
       "    </tr>\n",
       "    <tr>\n",
       "      <th>min</th>\n",
       "      <td>1.000000</td>\n",
       "      <td>120.000000</td>\n",
       "      <td>5.000000</td>\n",
       "    </tr>\n",
       "    <tr>\n",
       "      <th>25%</th>\n",
       "      <td>4.500000</td>\n",
       "      <td>140.000000</td>\n",
       "      <td>6.500000</td>\n",
       "    </tr>\n",
       "    <tr>\n",
       "      <th>50%</th>\n",
       "      <td>8.000000</td>\n",
       "      <td>150.000000</td>\n",
       "      <td>8.500000</td>\n",
       "    </tr>\n",
       "    <tr>\n",
       "      <th>75%</th>\n",
       "      <td>11.500000</td>\n",
       "      <td>175.000000</td>\n",
       "      <td>9.000000</td>\n",
       "    </tr>\n",
       "    <tr>\n",
       "      <th>max</th>\n",
       "      <td>15.000000</td>\n",
       "      <td>190.000000</td>\n",
       "      <td>10.000000</td>\n",
       "    </tr>\n",
       "  </tbody>\n",
       "</table>\n",
       "</div>"
      ],
      "text/plain": [
       "              id    duration    rarting\n",
       "count  15.000000   15.000000  15.000000\n",
       "mean    8.000000  153.333333   7.833333\n",
       "std     4.472136   22.253946   1.718249\n",
       "min     1.000000  120.000000   5.000000\n",
       "25%     4.500000  140.000000   6.500000\n",
       "50%     8.000000  150.000000   8.500000\n",
       "75%    11.500000  175.000000   9.000000\n",
       "max    15.000000  190.000000  10.000000"
      ]
     },
     "execution_count": 64,
     "metadata": {},
     "output_type": "execute_result"
    }
   ],
   "source": [
    "movies.describe()"
   ]
  },
  {
   "cell_type": "code",
   "execution_count": 65,
   "id": "bac7caec-344a-4a77-9007-31b31cad3b9b",
   "metadata": {},
   "outputs": [
    {
     "data": {
      "text/html": [
       "<div>\n",
       "<style scoped>\n",
       "    .dataframe tbody tr th:only-of-type {\n",
       "        vertical-align: middle;\n",
       "    }\n",
       "\n",
       "    .dataframe tbody tr th {\n",
       "        vertical-align: top;\n",
       "    }\n",
       "\n",
       "    .dataframe thead th {\n",
       "        text-align: right;\n",
       "    }\n",
       "</style>\n",
       "<table border=\"1\" class=\"dataframe\">\n",
       "  <thead>\n",
       "    <tr style=\"text-align: right;\">\n",
       "      <th></th>\n",
       "      <th>id</th>\n",
       "      <th>name</th>\n",
       "      <th>industry</th>\n",
       "      <th>genre</th>\n",
       "      <th>language</th>\n",
       "      <th>duration</th>\n",
       "      <th>rarting</th>\n",
       "    </tr>\n",
       "  </thead>\n",
       "  <tbody>\n",
       "    <tr>\n",
       "      <th>0</th>\n",
       "      <td>1</td>\n",
       "      <td>Baahubali</td>\n",
       "      <td>Tollywood</td>\n",
       "      <td>Action</td>\n",
       "      <td>Telegu</td>\n",
       "      <td>170</td>\n",
       "      <td>9.5</td>\n",
       "    </tr>\n",
       "    <tr>\n",
       "      <th>1</th>\n",
       "      <td>2</td>\n",
       "      <td>Brahmastra</td>\n",
       "      <td>Bollywood</td>\n",
       "      <td>Mystereous</td>\n",
       "      <td>Hindi</td>\n",
       "      <td>180</td>\n",
       "      <td>5.0</td>\n",
       "    </tr>\n",
       "    <tr>\n",
       "      <th>2</th>\n",
       "      <td>3</td>\n",
       "      <td>Uri-The Surgical Strike</td>\n",
       "      <td>Bollywood</td>\n",
       "      <td>Action</td>\n",
       "      <td>Hindi</td>\n",
       "      <td>120</td>\n",
       "      <td>10.0</td>\n",
       "    </tr>\n",
       "    <tr>\n",
       "      <th>3</th>\n",
       "      <td>4</td>\n",
       "      <td>DDLJ</td>\n",
       "      <td>Bollywood</td>\n",
       "      <td>Romantic</td>\n",
       "      <td>Hindi</td>\n",
       "      <td>150</td>\n",
       "      <td>10.0</td>\n",
       "    </tr>\n",
       "    <tr>\n",
       "      <th>4</th>\n",
       "      <td>5</td>\n",
       "      <td>Avengers-End Game</td>\n",
       "      <td>Hollywood</td>\n",
       "      <td>Action</td>\n",
       "      <td>English</td>\n",
       "      <td>180</td>\n",
       "      <td>9.0</td>\n",
       "    </tr>\n",
       "  </tbody>\n",
       "</table>\n",
       "</div>"
      ],
      "text/plain": [
       "   id                     name   industry       genre language  duration  \\\n",
       "0   1                Baahubali  Tollywood      Action   Telegu       170   \n",
       "1   2               Brahmastra  Bollywood  Mystereous    Hindi       180   \n",
       "2   3  Uri-The Surgical Strike  Bollywood      Action    Hindi       120   \n",
       "3   4                     DDLJ  Bollywood    Romantic    Hindi       150   \n",
       "4   5        Avengers-End Game  Hollywood      Action  English       180   \n",
       "\n",
       "   rarting  \n",
       "0      9.5  \n",
       "1      5.0  \n",
       "2     10.0  \n",
       "3     10.0  \n",
       "4      9.0  "
      ]
     },
     "execution_count": 65,
     "metadata": {},
     "output_type": "execute_result"
    }
   ],
   "source": [
    "movies.head()"
   ]
  },
  {
   "cell_type": "code",
   "execution_count": 68,
   "id": "00c6940e-1aa7-43eb-813a-a70c2fa75292",
   "metadata": {},
   "outputs": [],
   "source": [
    "movies=pd.read_csv(r'myMovies.csv',index_col=0)"
   ]
  },
  {
   "cell_type": "code",
   "execution_count": 67,
   "id": "bfae5027-2375-4edb-81f6-a88ee2089ccc",
   "metadata": {},
   "outputs": [
    {
     "ename": "KeyError",
     "evalue": "\"['id'] not found in axis\"",
     "output_type": "error",
     "traceback": [
      "\u001b[1;31m---------------------------------------------------------------------------\u001b[0m",
      "\u001b[1;31mKeyError\u001b[0m                                  Traceback (most recent call last)",
      "Input \u001b[1;32mIn [67]\u001b[0m, in \u001b[0;36m<cell line: 1>\u001b[1;34m()\u001b[0m\n\u001b[1;32m----> 1\u001b[0m \u001b[43mmovies\u001b[49m\u001b[38;5;241;43m.\u001b[39;49m\u001b[43mdrop\u001b[49m\u001b[43m(\u001b[49m\u001b[43m[\u001b[49m\u001b[38;5;124;43m'\u001b[39;49m\u001b[38;5;124;43mid\u001b[39;49m\u001b[38;5;124;43m'\u001b[39;49m\u001b[43m]\u001b[49m\u001b[43m,\u001b[49m\u001b[43maxis\u001b[49m\u001b[38;5;241;43m=\u001b[39;49m\u001b[38;5;241;43m1\u001b[39;49m\u001b[43m,\u001b[49m\u001b[43minplace\u001b[49m\u001b[38;5;241;43m=\u001b[39;49m\u001b[38;5;28;43;01mTrue\u001b[39;49;00m\u001b[43m)\u001b[49m\n",
      "File \u001b[1;32mC:\\ProgramData\\Anaconda3\\lib\\site-packages\\pandas\\util\\_decorators.py:311\u001b[0m, in \u001b[0;36mdeprecate_nonkeyword_arguments.<locals>.decorate.<locals>.wrapper\u001b[1;34m(*args, **kwargs)\u001b[0m\n\u001b[0;32m    305\u001b[0m \u001b[38;5;28;01mif\u001b[39;00m \u001b[38;5;28mlen\u001b[39m(args) \u001b[38;5;241m>\u001b[39m num_allow_args:\n\u001b[0;32m    306\u001b[0m     warnings\u001b[38;5;241m.\u001b[39mwarn(\n\u001b[0;32m    307\u001b[0m         msg\u001b[38;5;241m.\u001b[39mformat(arguments\u001b[38;5;241m=\u001b[39marguments),\n\u001b[0;32m    308\u001b[0m         \u001b[38;5;167;01mFutureWarning\u001b[39;00m,\n\u001b[0;32m    309\u001b[0m         stacklevel\u001b[38;5;241m=\u001b[39mstacklevel,\n\u001b[0;32m    310\u001b[0m     )\n\u001b[1;32m--> 311\u001b[0m \u001b[38;5;28;01mreturn\u001b[39;00m func(\u001b[38;5;241m*\u001b[39margs, \u001b[38;5;241m*\u001b[39m\u001b[38;5;241m*\u001b[39mkwargs)\n",
      "File \u001b[1;32mC:\\ProgramData\\Anaconda3\\lib\\site-packages\\pandas\\core\\frame.py:4954\u001b[0m, in \u001b[0;36mDataFrame.drop\u001b[1;34m(self, labels, axis, index, columns, level, inplace, errors)\u001b[0m\n\u001b[0;32m   4806\u001b[0m \u001b[38;5;129m@deprecate_nonkeyword_arguments\u001b[39m(version\u001b[38;5;241m=\u001b[39m\u001b[38;5;28;01mNone\u001b[39;00m, allowed_args\u001b[38;5;241m=\u001b[39m[\u001b[38;5;124m\"\u001b[39m\u001b[38;5;124mself\u001b[39m\u001b[38;5;124m\"\u001b[39m, \u001b[38;5;124m\"\u001b[39m\u001b[38;5;124mlabels\u001b[39m\u001b[38;5;124m\"\u001b[39m])\n\u001b[0;32m   4807\u001b[0m \u001b[38;5;28;01mdef\u001b[39;00m \u001b[38;5;21mdrop\u001b[39m(\n\u001b[0;32m   4808\u001b[0m     \u001b[38;5;28mself\u001b[39m,\n\u001b[1;32m   (...)\u001b[0m\n\u001b[0;32m   4815\u001b[0m     errors: \u001b[38;5;28mstr\u001b[39m \u001b[38;5;241m=\u001b[39m \u001b[38;5;124m\"\u001b[39m\u001b[38;5;124mraise\u001b[39m\u001b[38;5;124m\"\u001b[39m,\n\u001b[0;32m   4816\u001b[0m ):\n\u001b[0;32m   4817\u001b[0m     \u001b[38;5;124;03m\"\"\"\u001b[39;00m\n\u001b[0;32m   4818\u001b[0m \u001b[38;5;124;03m    Drop specified labels from rows or columns.\u001b[39;00m\n\u001b[0;32m   4819\u001b[0m \n\u001b[1;32m   (...)\u001b[0m\n\u001b[0;32m   4952\u001b[0m \u001b[38;5;124;03m            weight  1.0     0.8\u001b[39;00m\n\u001b[0;32m   4953\u001b[0m \u001b[38;5;124;03m    \"\"\"\u001b[39;00m\n\u001b[1;32m-> 4954\u001b[0m     \u001b[38;5;28;01mreturn\u001b[39;00m \u001b[38;5;28;43msuper\u001b[39;49m\u001b[43m(\u001b[49m\u001b[43m)\u001b[49m\u001b[38;5;241;43m.\u001b[39;49m\u001b[43mdrop\u001b[49m\u001b[43m(\u001b[49m\n\u001b[0;32m   4955\u001b[0m \u001b[43m        \u001b[49m\u001b[43mlabels\u001b[49m\u001b[38;5;241;43m=\u001b[39;49m\u001b[43mlabels\u001b[49m\u001b[43m,\u001b[49m\n\u001b[0;32m   4956\u001b[0m \u001b[43m        \u001b[49m\u001b[43maxis\u001b[49m\u001b[38;5;241;43m=\u001b[39;49m\u001b[43maxis\u001b[49m\u001b[43m,\u001b[49m\n\u001b[0;32m   4957\u001b[0m \u001b[43m        \u001b[49m\u001b[43mindex\u001b[49m\u001b[38;5;241;43m=\u001b[39;49m\u001b[43mindex\u001b[49m\u001b[43m,\u001b[49m\n\u001b[0;32m   4958\u001b[0m \u001b[43m        \u001b[49m\u001b[43mcolumns\u001b[49m\u001b[38;5;241;43m=\u001b[39;49m\u001b[43mcolumns\u001b[49m\u001b[43m,\u001b[49m\n\u001b[0;32m   4959\u001b[0m \u001b[43m        \u001b[49m\u001b[43mlevel\u001b[49m\u001b[38;5;241;43m=\u001b[39;49m\u001b[43mlevel\u001b[49m\u001b[43m,\u001b[49m\n\u001b[0;32m   4960\u001b[0m \u001b[43m        \u001b[49m\u001b[43minplace\u001b[49m\u001b[38;5;241;43m=\u001b[39;49m\u001b[43minplace\u001b[49m\u001b[43m,\u001b[49m\n\u001b[0;32m   4961\u001b[0m \u001b[43m        \u001b[49m\u001b[43merrors\u001b[49m\u001b[38;5;241;43m=\u001b[39;49m\u001b[43merrors\u001b[49m\u001b[43m,\u001b[49m\n\u001b[0;32m   4962\u001b[0m \u001b[43m    \u001b[49m\u001b[43m)\u001b[49m\n",
      "File \u001b[1;32mC:\\ProgramData\\Anaconda3\\lib\\site-packages\\pandas\\core\\generic.py:4267\u001b[0m, in \u001b[0;36mNDFrame.drop\u001b[1;34m(self, labels, axis, index, columns, level, inplace, errors)\u001b[0m\n\u001b[0;32m   4265\u001b[0m \u001b[38;5;28;01mfor\u001b[39;00m axis, labels \u001b[38;5;129;01min\u001b[39;00m axes\u001b[38;5;241m.\u001b[39mitems():\n\u001b[0;32m   4266\u001b[0m     \u001b[38;5;28;01mif\u001b[39;00m labels \u001b[38;5;129;01mis\u001b[39;00m \u001b[38;5;129;01mnot\u001b[39;00m \u001b[38;5;28;01mNone\u001b[39;00m:\n\u001b[1;32m-> 4267\u001b[0m         obj \u001b[38;5;241m=\u001b[39m \u001b[43mobj\u001b[49m\u001b[38;5;241;43m.\u001b[39;49m\u001b[43m_drop_axis\u001b[49m\u001b[43m(\u001b[49m\u001b[43mlabels\u001b[49m\u001b[43m,\u001b[49m\u001b[43m \u001b[49m\u001b[43maxis\u001b[49m\u001b[43m,\u001b[49m\u001b[43m \u001b[49m\u001b[43mlevel\u001b[49m\u001b[38;5;241;43m=\u001b[39;49m\u001b[43mlevel\u001b[49m\u001b[43m,\u001b[49m\u001b[43m \u001b[49m\u001b[43merrors\u001b[49m\u001b[38;5;241;43m=\u001b[39;49m\u001b[43merrors\u001b[49m\u001b[43m)\u001b[49m\n\u001b[0;32m   4269\u001b[0m \u001b[38;5;28;01mif\u001b[39;00m inplace:\n\u001b[0;32m   4270\u001b[0m     \u001b[38;5;28mself\u001b[39m\u001b[38;5;241m.\u001b[39m_update_inplace(obj)\n",
      "File \u001b[1;32mC:\\ProgramData\\Anaconda3\\lib\\site-packages\\pandas\\core\\generic.py:4311\u001b[0m, in \u001b[0;36mNDFrame._drop_axis\u001b[1;34m(self, labels, axis, level, errors, consolidate, only_slice)\u001b[0m\n\u001b[0;32m   4309\u001b[0m         new_axis \u001b[38;5;241m=\u001b[39m axis\u001b[38;5;241m.\u001b[39mdrop(labels, level\u001b[38;5;241m=\u001b[39mlevel, errors\u001b[38;5;241m=\u001b[39merrors)\n\u001b[0;32m   4310\u001b[0m     \u001b[38;5;28;01melse\u001b[39;00m:\n\u001b[1;32m-> 4311\u001b[0m         new_axis \u001b[38;5;241m=\u001b[39m \u001b[43maxis\u001b[49m\u001b[38;5;241;43m.\u001b[39;49m\u001b[43mdrop\u001b[49m\u001b[43m(\u001b[49m\u001b[43mlabels\u001b[49m\u001b[43m,\u001b[49m\u001b[43m \u001b[49m\u001b[43merrors\u001b[49m\u001b[38;5;241;43m=\u001b[39;49m\u001b[43merrors\u001b[49m\u001b[43m)\u001b[49m\n\u001b[0;32m   4312\u001b[0m     indexer \u001b[38;5;241m=\u001b[39m axis\u001b[38;5;241m.\u001b[39mget_indexer(new_axis)\n\u001b[0;32m   4314\u001b[0m \u001b[38;5;66;03m# Case for non-unique axis\u001b[39;00m\n\u001b[0;32m   4315\u001b[0m \u001b[38;5;28;01melse\u001b[39;00m:\n",
      "File \u001b[1;32mC:\\ProgramData\\Anaconda3\\lib\\site-packages\\pandas\\core\\indexes\\base.py:6644\u001b[0m, in \u001b[0;36mIndex.drop\u001b[1;34m(self, labels, errors)\u001b[0m\n\u001b[0;32m   6642\u001b[0m \u001b[38;5;28;01mif\u001b[39;00m mask\u001b[38;5;241m.\u001b[39many():\n\u001b[0;32m   6643\u001b[0m     \u001b[38;5;28;01mif\u001b[39;00m errors \u001b[38;5;241m!=\u001b[39m \u001b[38;5;124m\"\u001b[39m\u001b[38;5;124mignore\u001b[39m\u001b[38;5;124m\"\u001b[39m:\n\u001b[1;32m-> 6644\u001b[0m         \u001b[38;5;28;01mraise\u001b[39;00m \u001b[38;5;167;01mKeyError\u001b[39;00m(\u001b[38;5;124mf\u001b[39m\u001b[38;5;124m\"\u001b[39m\u001b[38;5;132;01m{\u001b[39;00m\u001b[38;5;28mlist\u001b[39m(labels[mask])\u001b[38;5;132;01m}\u001b[39;00m\u001b[38;5;124m not found in axis\u001b[39m\u001b[38;5;124m\"\u001b[39m)\n\u001b[0;32m   6645\u001b[0m     indexer \u001b[38;5;241m=\u001b[39m indexer[\u001b[38;5;241m~\u001b[39mmask]\n\u001b[0;32m   6646\u001b[0m \u001b[38;5;28;01mreturn\u001b[39;00m \u001b[38;5;28mself\u001b[39m\u001b[38;5;241m.\u001b[39mdelete(indexer)\n",
      "\u001b[1;31mKeyError\u001b[0m: \"['id'] not found in axis\""
     ]
    }
   ],
   "source": [
    "movies.drop(['id'],axis=1,inplace=True)"
   ]
  },
  {
   "cell_type": "markdown",
   "id": "ff32dee2-5531-4b9b-8b69-d66cca6e7420",
   "metadata": {},
   "source": []
  },
  {
   "cell_type": "code",
   "execution_count": 69,
   "id": "d4e57ef0-b588-4fd0-8250-dc9efe72ebe0",
   "metadata": {},
   "outputs": [
    {
     "data": {
      "text/html": [
       "<div>\n",
       "<style scoped>\n",
       "    .dataframe tbody tr th:only-of-type {\n",
       "        vertical-align: middle;\n",
       "    }\n",
       "\n",
       "    .dataframe tbody tr th {\n",
       "        vertical-align: top;\n",
       "    }\n",
       "\n",
       "    .dataframe thead th {\n",
       "        text-align: right;\n",
       "    }\n",
       "</style>\n",
       "<table border=\"1\" class=\"dataframe\">\n",
       "  <thead>\n",
       "    <tr style=\"text-align: right;\">\n",
       "      <th></th>\n",
       "      <th>duration</th>\n",
       "      <th>rarting</th>\n",
       "    </tr>\n",
       "  </thead>\n",
       "  <tbody>\n",
       "    <tr>\n",
       "      <th>count</th>\n",
       "      <td>15.000000</td>\n",
       "      <td>15.000000</td>\n",
       "    </tr>\n",
       "    <tr>\n",
       "      <th>mean</th>\n",
       "      <td>153.333333</td>\n",
       "      <td>7.833333</td>\n",
       "    </tr>\n",
       "    <tr>\n",
       "      <th>std</th>\n",
       "      <td>22.253946</td>\n",
       "      <td>1.718249</td>\n",
       "    </tr>\n",
       "    <tr>\n",
       "      <th>min</th>\n",
       "      <td>120.000000</td>\n",
       "      <td>5.000000</td>\n",
       "    </tr>\n",
       "    <tr>\n",
       "      <th>25%</th>\n",
       "      <td>140.000000</td>\n",
       "      <td>6.500000</td>\n",
       "    </tr>\n",
       "    <tr>\n",
       "      <th>50%</th>\n",
       "      <td>150.000000</td>\n",
       "      <td>8.500000</td>\n",
       "    </tr>\n",
       "    <tr>\n",
       "      <th>75%</th>\n",
       "      <td>175.000000</td>\n",
       "      <td>9.000000</td>\n",
       "    </tr>\n",
       "    <tr>\n",
       "      <th>max</th>\n",
       "      <td>190.000000</td>\n",
       "      <td>10.000000</td>\n",
       "    </tr>\n",
       "  </tbody>\n",
       "</table>\n",
       "</div>"
      ],
      "text/plain": [
       "         duration    rarting\n",
       "count   15.000000  15.000000\n",
       "mean   153.333333   7.833333\n",
       "std     22.253946   1.718249\n",
       "min    120.000000   5.000000\n",
       "25%    140.000000   6.500000\n",
       "50%    150.000000   8.500000\n",
       "75%    175.000000   9.000000\n",
       "max    190.000000  10.000000"
      ]
     },
     "execution_count": 69,
     "metadata": {},
     "output_type": "execute_result"
    }
   ],
   "source": [
    "movies.describe()"
   ]
  },
  {
   "cell_type": "code",
   "execution_count": 73,
   "id": "2432ecc9-7527-4603-804f-ff4f322b2a27",
   "metadata": {},
   "outputs": [
    {
     "data": {
      "text/html": [
       "<div>\n",
       "<style scoped>\n",
       "    .dataframe tbody tr th:only-of-type {\n",
       "        vertical-align: middle;\n",
       "    }\n",
       "\n",
       "    .dataframe tbody tr th {\n",
       "        vertical-align: top;\n",
       "    }\n",
       "\n",
       "    .dataframe thead th {\n",
       "        text-align: right;\n",
       "    }\n",
       "</style>\n",
       "<table border=\"1\" class=\"dataframe\">\n",
       "  <thead>\n",
       "    <tr style=\"text-align: right;\">\n",
       "      <th></th>\n",
       "      <th>name</th>\n",
       "      <th>industry</th>\n",
       "      <th>genre</th>\n",
       "      <th>language</th>\n",
       "      <th>duration</th>\n",
       "      <th>rarting</th>\n",
       "    </tr>\n",
       "  </thead>\n",
       "  <tbody>\n",
       "    <tr>\n",
       "      <th>count</th>\n",
       "      <td>15</td>\n",
       "      <td>15</td>\n",
       "      <td>15</td>\n",
       "      <td>15</td>\n",
       "      <td>15.000000</td>\n",
       "      <td>15.000000</td>\n",
       "    </tr>\n",
       "    <tr>\n",
       "      <th>unique</th>\n",
       "      <td>15</td>\n",
       "      <td>3</td>\n",
       "      <td>6</td>\n",
       "      <td>3</td>\n",
       "      <td>NaN</td>\n",
       "      <td>NaN</td>\n",
       "    </tr>\n",
       "    <tr>\n",
       "      <th>top</th>\n",
       "      <td>Baahubali</td>\n",
       "      <td>Bollywood</td>\n",
       "      <td>Action</td>\n",
       "      <td>Hindi</td>\n",
       "      <td>NaN</td>\n",
       "      <td>NaN</td>\n",
       "    </tr>\n",
       "    <tr>\n",
       "      <th>freq</th>\n",
       "      <td>1</td>\n",
       "      <td>8</td>\n",
       "      <td>4</td>\n",
       "      <td>7</td>\n",
       "      <td>NaN</td>\n",
       "      <td>NaN</td>\n",
       "    </tr>\n",
       "    <tr>\n",
       "      <th>mean</th>\n",
       "      <td>NaN</td>\n",
       "      <td>NaN</td>\n",
       "      <td>NaN</td>\n",
       "      <td>NaN</td>\n",
       "      <td>153.333333</td>\n",
       "      <td>7.833333</td>\n",
       "    </tr>\n",
       "    <tr>\n",
       "      <th>std</th>\n",
       "      <td>NaN</td>\n",
       "      <td>NaN</td>\n",
       "      <td>NaN</td>\n",
       "      <td>NaN</td>\n",
       "      <td>22.253946</td>\n",
       "      <td>1.718249</td>\n",
       "    </tr>\n",
       "    <tr>\n",
       "      <th>min</th>\n",
       "      <td>NaN</td>\n",
       "      <td>NaN</td>\n",
       "      <td>NaN</td>\n",
       "      <td>NaN</td>\n",
       "      <td>120.000000</td>\n",
       "      <td>5.000000</td>\n",
       "    </tr>\n",
       "    <tr>\n",
       "      <th>25%</th>\n",
       "      <td>NaN</td>\n",
       "      <td>NaN</td>\n",
       "      <td>NaN</td>\n",
       "      <td>NaN</td>\n",
       "      <td>140.000000</td>\n",
       "      <td>6.500000</td>\n",
       "    </tr>\n",
       "    <tr>\n",
       "      <th>50%</th>\n",
       "      <td>NaN</td>\n",
       "      <td>NaN</td>\n",
       "      <td>NaN</td>\n",
       "      <td>NaN</td>\n",
       "      <td>150.000000</td>\n",
       "      <td>8.500000</td>\n",
       "    </tr>\n",
       "    <tr>\n",
       "      <th>75%</th>\n",
       "      <td>NaN</td>\n",
       "      <td>NaN</td>\n",
       "      <td>NaN</td>\n",
       "      <td>NaN</td>\n",
       "      <td>175.000000</td>\n",
       "      <td>9.000000</td>\n",
       "    </tr>\n",
       "    <tr>\n",
       "      <th>max</th>\n",
       "      <td>NaN</td>\n",
       "      <td>NaN</td>\n",
       "      <td>NaN</td>\n",
       "      <td>NaN</td>\n",
       "      <td>190.000000</td>\n",
       "      <td>10.000000</td>\n",
       "    </tr>\n",
       "  </tbody>\n",
       "</table>\n",
       "</div>"
      ],
      "text/plain": [
       "             name   industry   genre language    duration    rarting\n",
       "count          15         15      15       15   15.000000  15.000000\n",
       "unique         15          3       6        3         NaN        NaN\n",
       "top     Baahubali  Bollywood  Action    Hindi         NaN        NaN\n",
       "freq            1          8       4        7         NaN        NaN\n",
       "mean          NaN        NaN     NaN      NaN  153.333333   7.833333\n",
       "std           NaN        NaN     NaN      NaN   22.253946   1.718249\n",
       "min           NaN        NaN     NaN      NaN  120.000000   5.000000\n",
       "25%           NaN        NaN     NaN      NaN  140.000000   6.500000\n",
       "50%           NaN        NaN     NaN      NaN  150.000000   8.500000\n",
       "75%           NaN        NaN     NaN      NaN  175.000000   9.000000\n",
       "max           NaN        NaN     NaN      NaN  190.000000  10.000000"
      ]
     },
     "execution_count": 73,
     "metadata": {},
     "output_type": "execute_result"
    }
   ],
   "source": [
    "movies.describe(include='all')"
   ]
  },
  {
   "cell_type": "code",
   "execution_count": 74,
   "id": "0570d514-50b7-403b-bbae-ba0a748c778e",
   "metadata": {},
   "outputs": [
    {
     "name": "stdout",
     "output_type": "stream",
     "text": [
      "<class 'pandas.core.frame.DataFrame'>\n",
      "Int64Index: 15 entries, 1 to 15\n",
      "Data columns (total 6 columns):\n",
      " #   Column    Non-Null Count  Dtype  \n",
      "---  ------    --------------  -----  \n",
      " 0   name      15 non-null     object \n",
      " 1   industry  15 non-null     object \n",
      " 2   genre     15 non-null     object \n",
      " 3   language  15 non-null     object \n",
      " 4   duration  15 non-null     int64  \n",
      " 5   rarting   15 non-null     float64\n",
      "dtypes: float64(1), int64(1), object(4)\n",
      "memory usage: 840.0+ bytes\n"
     ]
    }
   ],
   "source": [
    "movies.info()"
   ]
  },
  {
   "cell_type": "code",
   "execution_count": 77,
   "id": "50ed2b59-395c-4071-b206-a4c0d3165907",
   "metadata": {},
   "outputs": [
    {
     "data": {
      "text/html": [
       "<div>\n",
       "<style scoped>\n",
       "    .dataframe tbody tr th:only-of-type {\n",
       "        vertical-align: middle;\n",
       "    }\n",
       "\n",
       "    .dataframe tbody tr th {\n",
       "        vertical-align: top;\n",
       "    }\n",
       "\n",
       "    .dataframe thead th {\n",
       "        text-align: right;\n",
       "    }\n",
       "</style>\n",
       "<table border=\"1\" class=\"dataframe\">\n",
       "  <thead>\n",
       "    <tr style=\"text-align: right;\">\n",
       "      <th></th>\n",
       "      <th>industry</th>\n",
       "      <th>Bollywood</th>\n",
       "      <th>Hollywood</th>\n",
       "      <th>Tollywood</th>\n",
       "    </tr>\n",
       "  </thead>\n",
       "  <tbody>\n",
       "    <tr>\n",
       "      <th rowspan=\"8\" valign=\"top\">duration</th>\n",
       "      <th>count</th>\n",
       "      <td>8.000000</td>\n",
       "      <td>6.000000</td>\n",
       "      <td>1.0</td>\n",
       "    </tr>\n",
       "    <tr>\n",
       "      <th>mean</th>\n",
       "      <td>147.500000</td>\n",
       "      <td>158.333333</td>\n",
       "      <td>170.0</td>\n",
       "    </tr>\n",
       "    <tr>\n",
       "      <th>std</th>\n",
       "      <td>16.690459</td>\n",
       "      <td>29.268869</td>\n",
       "      <td>NaN</td>\n",
       "    </tr>\n",
       "    <tr>\n",
       "      <th>min</th>\n",
       "      <td>120.000000</td>\n",
       "      <td>120.000000</td>\n",
       "      <td>170.0</td>\n",
       "    </tr>\n",
       "    <tr>\n",
       "      <th>25%</th>\n",
       "      <td>140.000000</td>\n",
       "      <td>135.000000</td>\n",
       "      <td>170.0</td>\n",
       "    </tr>\n",
       "    <tr>\n",
       "      <th>50%</th>\n",
       "      <td>150.000000</td>\n",
       "      <td>165.000000</td>\n",
       "      <td>170.0</td>\n",
       "    </tr>\n",
       "    <tr>\n",
       "      <th>75%</th>\n",
       "      <td>150.000000</td>\n",
       "      <td>180.000000</td>\n",
       "      <td>170.0</td>\n",
       "    </tr>\n",
       "    <tr>\n",
       "      <th>max</th>\n",
       "      <td>180.000000</td>\n",
       "      <td>190.000000</td>\n",
       "      <td>170.0</td>\n",
       "    </tr>\n",
       "    <tr>\n",
       "      <th rowspan=\"8\" valign=\"top\">rarting</th>\n",
       "      <th>count</th>\n",
       "      <td>8.000000</td>\n",
       "      <td>6.000000</td>\n",
       "      <td>1.0</td>\n",
       "    </tr>\n",
       "    <tr>\n",
       "      <th>mean</th>\n",
       "      <td>7.687500</td>\n",
       "      <td>7.750000</td>\n",
       "      <td>9.5</td>\n",
       "    </tr>\n",
       "    <tr>\n",
       "      <th>std</th>\n",
       "      <td>2.086307</td>\n",
       "      <td>1.254990</td>\n",
       "      <td>NaN</td>\n",
       "    </tr>\n",
       "    <tr>\n",
       "      <th>min</th>\n",
       "      <td>5.000000</td>\n",
       "      <td>6.000000</td>\n",
       "      <td>9.5</td>\n",
       "    </tr>\n",
       "    <tr>\n",
       "      <th>25%</th>\n",
       "      <td>5.750000</td>\n",
       "      <td>7.000000</td>\n",
       "      <td>9.5</td>\n",
       "    </tr>\n",
       "    <tr>\n",
       "      <th>50%</th>\n",
       "      <td>8.250000</td>\n",
       "      <td>7.750000</td>\n",
       "      <td>9.5</td>\n",
       "    </tr>\n",
       "    <tr>\n",
       "      <th>75%</th>\n",
       "      <td>9.250000</td>\n",
       "      <td>8.875000</td>\n",
       "      <td>9.5</td>\n",
       "    </tr>\n",
       "    <tr>\n",
       "      <th>max</th>\n",
       "      <td>10.000000</td>\n",
       "      <td>9.000000</td>\n",
       "      <td>9.5</td>\n",
       "    </tr>\n",
       "  </tbody>\n",
       "</table>\n",
       "</div>"
      ],
      "text/plain": [
       "industry         Bollywood   Hollywood  Tollywood\n",
       "duration count    8.000000    6.000000        1.0\n",
       "         mean   147.500000  158.333333      170.0\n",
       "         std     16.690459   29.268869        NaN\n",
       "         min    120.000000  120.000000      170.0\n",
       "         25%    140.000000  135.000000      170.0\n",
       "         50%    150.000000  165.000000      170.0\n",
       "         75%    150.000000  180.000000      170.0\n",
       "         max    180.000000  190.000000      170.0\n",
       "rarting  count    8.000000    6.000000        1.0\n",
       "         mean     7.687500    7.750000        9.5\n",
       "         std      2.086307    1.254990        NaN\n",
       "         min      5.000000    6.000000        9.5\n",
       "         25%      5.750000    7.000000        9.5\n",
       "         50%      8.250000    7.750000        9.5\n",
       "         75%      9.250000    8.875000        9.5\n",
       "         max     10.000000    9.000000        9.5"
      ]
     },
     "execution_count": 77,
     "metadata": {},
     "output_type": "execute_result"
    }
   ],
   "source": [
    "movies.groupby('industry').describe().T"
   ]
  },
  {
   "cell_type": "code",
   "execution_count": 79,
   "id": "57ad55fa-85e1-46e0-a1ec-3f9be196a9c3",
   "metadata": {},
   "outputs": [
    {
     "data": {
      "text/html": [
       "<div>\n",
       "<style scoped>\n",
       "    .dataframe tbody tr th:only-of-type {\n",
       "        vertical-align: middle;\n",
       "    }\n",
       "\n",
       "    .dataframe tbody tr th {\n",
       "        vertical-align: top;\n",
       "    }\n",
       "\n",
       "    .dataframe thead tr th {\n",
       "        text-align: left;\n",
       "    }\n",
       "</style>\n",
       "<table border=\"1\" class=\"dataframe\">\n",
       "  <thead>\n",
       "    <tr>\n",
       "      <th></th>\n",
       "      <th>genre</th>\n",
       "      <th colspan=\"3\" halign=\"left\">Action</th>\n",
       "      <th colspan=\"2\" halign=\"left\">Comedy</th>\n",
       "      <th colspan=\"2\" halign=\"left\">Drama</th>\n",
       "      <th>Mystereous</th>\n",
       "      <th>Romantic</th>\n",
       "      <th>SciFi</th>\n",
       "    </tr>\n",
       "    <tr>\n",
       "      <th></th>\n",
       "      <th>industry</th>\n",
       "      <th>Bollywood</th>\n",
       "      <th>Hollywood</th>\n",
       "      <th>Tollywood</th>\n",
       "      <th>Bollywood</th>\n",
       "      <th>Hollywood</th>\n",
       "      <th>Bollywood</th>\n",
       "      <th>Hollywood</th>\n",
       "      <th>Bollywood</th>\n",
       "      <th>Bollywood</th>\n",
       "      <th>Hollywood</th>\n",
       "    </tr>\n",
       "  </thead>\n",
       "  <tbody>\n",
       "    <tr>\n",
       "      <th rowspan=\"8\" valign=\"top\">duration</th>\n",
       "      <th>count</th>\n",
       "      <td>2.000000</td>\n",
       "      <td>1.0</td>\n",
       "      <td>1.0</td>\n",
       "      <td>2.000000</td>\n",
       "      <td>1.0</td>\n",
       "      <td>1.0</td>\n",
       "      <td>1.0</td>\n",
       "      <td>1.0</td>\n",
       "      <td>2.000000</td>\n",
       "      <td>3.000000</td>\n",
       "    </tr>\n",
       "    <tr>\n",
       "      <th>mean</th>\n",
       "      <td>130.000000</td>\n",
       "      <td>180.0</td>\n",
       "      <td>170.0</td>\n",
       "      <td>145.000000</td>\n",
       "      <td>120.0</td>\n",
       "      <td>150.0</td>\n",
       "      <td>180.0</td>\n",
       "      <td>180.0</td>\n",
       "      <td>150.000000</td>\n",
       "      <td>156.666667</td>\n",
       "    </tr>\n",
       "    <tr>\n",
       "      <th>std</th>\n",
       "      <td>14.142136</td>\n",
       "      <td>NaN</td>\n",
       "      <td>NaN</td>\n",
       "      <td>7.071068</td>\n",
       "      <td>NaN</td>\n",
       "      <td>NaN</td>\n",
       "      <td>NaN</td>\n",
       "      <td>NaN</td>\n",
       "      <td>0.000000</td>\n",
       "      <td>30.550505</td>\n",
       "    </tr>\n",
       "    <tr>\n",
       "      <th>min</th>\n",
       "      <td>120.000000</td>\n",
       "      <td>180.0</td>\n",
       "      <td>170.0</td>\n",
       "      <td>140.000000</td>\n",
       "      <td>120.0</td>\n",
       "      <td>150.0</td>\n",
       "      <td>180.0</td>\n",
       "      <td>180.0</td>\n",
       "      <td>150.000000</td>\n",
       "      <td>130.000000</td>\n",
       "    </tr>\n",
       "    <tr>\n",
       "      <th>25%</th>\n",
       "      <td>125.000000</td>\n",
       "      <td>180.0</td>\n",
       "      <td>170.0</td>\n",
       "      <td>142.500000</td>\n",
       "      <td>120.0</td>\n",
       "      <td>150.0</td>\n",
       "      <td>180.0</td>\n",
       "      <td>180.0</td>\n",
       "      <td>150.000000</td>\n",
       "      <td>140.000000</td>\n",
       "    </tr>\n",
       "    <tr>\n",
       "      <th>50%</th>\n",
       "      <td>130.000000</td>\n",
       "      <td>180.0</td>\n",
       "      <td>170.0</td>\n",
       "      <td>145.000000</td>\n",
       "      <td>120.0</td>\n",
       "      <td>150.0</td>\n",
       "      <td>180.0</td>\n",
       "      <td>180.0</td>\n",
       "      <td>150.000000</td>\n",
       "      <td>150.000000</td>\n",
       "    </tr>\n",
       "    <tr>\n",
       "      <th>75%</th>\n",
       "      <td>135.000000</td>\n",
       "      <td>180.0</td>\n",
       "      <td>170.0</td>\n",
       "      <td>147.500000</td>\n",
       "      <td>120.0</td>\n",
       "      <td>150.0</td>\n",
       "      <td>180.0</td>\n",
       "      <td>180.0</td>\n",
       "      <td>150.000000</td>\n",
       "      <td>170.000000</td>\n",
       "    </tr>\n",
       "    <tr>\n",
       "      <th>max</th>\n",
       "      <td>140.000000</td>\n",
       "      <td>180.0</td>\n",
       "      <td>170.0</td>\n",
       "      <td>150.000000</td>\n",
       "      <td>120.0</td>\n",
       "      <td>150.0</td>\n",
       "      <td>180.0</td>\n",
       "      <td>180.0</td>\n",
       "      <td>150.000000</td>\n",
       "      <td>190.000000</td>\n",
       "    </tr>\n",
       "    <tr>\n",
       "      <th rowspan=\"8\" valign=\"top\">rarting</th>\n",
       "      <th>count</th>\n",
       "      <td>2.000000</td>\n",
       "      <td>1.0</td>\n",
       "      <td>1.0</td>\n",
       "      <td>2.000000</td>\n",
       "      <td>1.0</td>\n",
       "      <td>1.0</td>\n",
       "      <td>1.0</td>\n",
       "      <td>1.0</td>\n",
       "      <td>2.000000</td>\n",
       "      <td>3.000000</td>\n",
       "    </tr>\n",
       "    <tr>\n",
       "      <th>mean</th>\n",
       "      <td>9.000000</td>\n",
       "      <td>9.0</td>\n",
       "      <td>9.5</td>\n",
       "      <td>7.500000</td>\n",
       "      <td>7.0</td>\n",
       "      <td>8.5</td>\n",
       "      <td>9.0</td>\n",
       "      <td>5.0</td>\n",
       "      <td>7.500000</td>\n",
       "      <td>7.166667</td>\n",
       "    </tr>\n",
       "    <tr>\n",
       "      <th>std</th>\n",
       "      <td>1.414214</td>\n",
       "      <td>NaN</td>\n",
       "      <td>NaN</td>\n",
       "      <td>2.121320</td>\n",
       "      <td>NaN</td>\n",
       "      <td>NaN</td>\n",
       "      <td>NaN</td>\n",
       "      <td>NaN</td>\n",
       "      <td>3.535534</td>\n",
       "      <td>1.258306</td>\n",
       "    </tr>\n",
       "    <tr>\n",
       "      <th>min</th>\n",
       "      <td>8.000000</td>\n",
       "      <td>9.0</td>\n",
       "      <td>9.5</td>\n",
       "      <td>6.000000</td>\n",
       "      <td>7.0</td>\n",
       "      <td>8.5</td>\n",
       "      <td>9.0</td>\n",
       "      <td>5.0</td>\n",
       "      <td>5.000000</td>\n",
       "      <td>6.000000</td>\n",
       "    </tr>\n",
       "    <tr>\n",
       "      <th>25%</th>\n",
       "      <td>8.500000</td>\n",
       "      <td>9.0</td>\n",
       "      <td>9.5</td>\n",
       "      <td>6.750000</td>\n",
       "      <td>7.0</td>\n",
       "      <td>8.5</td>\n",
       "      <td>9.0</td>\n",
       "      <td>5.0</td>\n",
       "      <td>6.250000</td>\n",
       "      <td>6.500000</td>\n",
       "    </tr>\n",
       "    <tr>\n",
       "      <th>50%</th>\n",
       "      <td>9.000000</td>\n",
       "      <td>9.0</td>\n",
       "      <td>9.5</td>\n",
       "      <td>7.500000</td>\n",
       "      <td>7.0</td>\n",
       "      <td>8.5</td>\n",
       "      <td>9.0</td>\n",
       "      <td>5.0</td>\n",
       "      <td>7.500000</td>\n",
       "      <td>7.000000</td>\n",
       "    </tr>\n",
       "    <tr>\n",
       "      <th>75%</th>\n",
       "      <td>9.500000</td>\n",
       "      <td>9.0</td>\n",
       "      <td>9.5</td>\n",
       "      <td>8.250000</td>\n",
       "      <td>7.0</td>\n",
       "      <td>8.5</td>\n",
       "      <td>9.0</td>\n",
       "      <td>5.0</td>\n",
       "      <td>8.750000</td>\n",
       "      <td>7.750000</td>\n",
       "    </tr>\n",
       "    <tr>\n",
       "      <th>max</th>\n",
       "      <td>10.000000</td>\n",
       "      <td>9.0</td>\n",
       "      <td>9.5</td>\n",
       "      <td>9.000000</td>\n",
       "      <td>7.0</td>\n",
       "      <td>8.5</td>\n",
       "      <td>9.0</td>\n",
       "      <td>5.0</td>\n",
       "      <td>10.000000</td>\n",
       "      <td>8.500000</td>\n",
       "    </tr>\n",
       "  </tbody>\n",
       "</table>\n",
       "</div>"
      ],
      "text/plain": [
       "genre               Action                          Comedy            \\\n",
       "industry         Bollywood Hollywood Tollywood   Bollywood Hollywood   \n",
       "duration count    2.000000       1.0       1.0    2.000000       1.0   \n",
       "         mean   130.000000     180.0     170.0  145.000000     120.0   \n",
       "         std     14.142136       NaN       NaN    7.071068       NaN   \n",
       "         min    120.000000     180.0     170.0  140.000000     120.0   \n",
       "         25%    125.000000     180.0     170.0  142.500000     120.0   \n",
       "         50%    130.000000     180.0     170.0  145.000000     120.0   \n",
       "         75%    135.000000     180.0     170.0  147.500000     120.0   \n",
       "         max    140.000000     180.0     170.0  150.000000     120.0   \n",
       "rarting  count    2.000000       1.0       1.0    2.000000       1.0   \n",
       "         mean     9.000000       9.0       9.5    7.500000       7.0   \n",
       "         std      1.414214       NaN       NaN    2.121320       NaN   \n",
       "         min      8.000000       9.0       9.5    6.000000       7.0   \n",
       "         25%      8.500000       9.0       9.5    6.750000       7.0   \n",
       "         50%      9.000000       9.0       9.5    7.500000       7.0   \n",
       "         75%      9.500000       9.0       9.5    8.250000       7.0   \n",
       "         max     10.000000       9.0       9.5    9.000000       7.0   \n",
       "\n",
       "genre              Drama           Mystereous    Romantic       SciFi  \n",
       "industry       Bollywood Hollywood  Bollywood   Bollywood   Hollywood  \n",
       "duration count       1.0       1.0        1.0    2.000000    3.000000  \n",
       "         mean      150.0     180.0      180.0  150.000000  156.666667  \n",
       "         std         NaN       NaN        NaN    0.000000   30.550505  \n",
       "         min       150.0     180.0      180.0  150.000000  130.000000  \n",
       "         25%       150.0     180.0      180.0  150.000000  140.000000  \n",
       "         50%       150.0     180.0      180.0  150.000000  150.000000  \n",
       "         75%       150.0     180.0      180.0  150.000000  170.000000  \n",
       "         max       150.0     180.0      180.0  150.000000  190.000000  \n",
       "rarting  count       1.0       1.0        1.0    2.000000    3.000000  \n",
       "         mean        8.5       9.0        5.0    7.500000    7.166667  \n",
       "         std         NaN       NaN        NaN    3.535534    1.258306  \n",
       "         min         8.5       9.0        5.0    5.000000    6.000000  \n",
       "         25%         8.5       9.0        5.0    6.250000    6.500000  \n",
       "         50%         8.5       9.0        5.0    7.500000    7.000000  \n",
       "         75%         8.5       9.0        5.0    8.750000    7.750000  \n",
       "         max         8.5       9.0        5.0   10.000000    8.500000  "
      ]
     },
     "execution_count": 79,
     "metadata": {},
     "output_type": "execute_result"
    }
   ],
   "source": [
    "movies.groupby(['genre','industry']).describe().T"
   ]
  },
  {
   "cell_type": "markdown",
   "id": "0b85a77f-8e49-4ef4-b1e6-08cbe2e0ec0d",
   "metadata": {},
   "source": [
    "## 8. Average rating each industry"
   ]
  },
  {
   "cell_type": "code",
   "execution_count": 81,
   "id": "bc65876c-f78e-41a5-b89a-9bc625c1883e",
   "metadata": {},
   "outputs": [
    {
     "data": {
      "text/plain": [
       "industry\n",
       "Bollywood    7.6875\n",
       "Hollywood    7.7500\n",
       "Tollywood    9.5000\n",
       "Name: rarting, dtype: float64"
      ]
     },
     "execution_count": 81,
     "metadata": {},
     "output_type": "execute_result"
    }
   ],
   "source": [
    "movies.groupby('industry')['rarting'].mean()"
   ]
  },
  {
   "cell_type": "markdown",
   "id": "e2d650a6-b7bc-4ed8-9fb9-2bf45ba34877",
   "metadata": {},
   "source": [
    "## 9. Average rating of romantic movies industry wise"
   ]
  },
  {
   "cell_type": "code",
   "execution_count": 83,
   "id": "64206b62-2387-4b52-9df0-e18b1606903e",
   "metadata": {},
   "outputs": [
    {
     "data": {
      "text/plain": [
       "industry\n",
       "Bollywood    7.5\n",
       "Name: rarting, dtype: float64"
      ]
     },
     "execution_count": 83,
     "metadata": {},
     "output_type": "execute_result"
    }
   ],
   "source": [
    "movies[movies['genre'].str.lower()=='romantic'].groupby('industry')['rarting'].mean()"
   ]
  },
  {
   "cell_type": "markdown",
   "id": "78b362d7-cb5b-4106-a468-e9f1c095dcc2",
   "metadata": {},
   "source": [
    "## 10. List down all the english movies with their respective rating in descending order"
   ]
  },
  {
   "cell_type": "code",
   "execution_count": 86,
   "id": "149e4509-cf4c-46a9-870c-ba5dee35980c",
   "metadata": {},
   "outputs": [
    {
     "data": {
      "text/html": [
       "<div>\n",
       "<style scoped>\n",
       "    .dataframe tbody tr th:only-of-type {\n",
       "        vertical-align: middle;\n",
       "    }\n",
       "\n",
       "    .dataframe tbody tr th {\n",
       "        vertical-align: top;\n",
       "    }\n",
       "\n",
       "    .dataframe thead th {\n",
       "        text-align: right;\n",
       "    }\n",
       "</style>\n",
       "<table border=\"1\" class=\"dataframe\">\n",
       "  <thead>\n",
       "    <tr style=\"text-align: right;\">\n",
       "      <th></th>\n",
       "      <th>name</th>\n",
       "      <th>rarting</th>\n",
       "    </tr>\n",
       "    <tr>\n",
       "      <th>id</th>\n",
       "      <th></th>\n",
       "      <th></th>\n",
       "    </tr>\n",
       "  </thead>\n",
       "  <tbody>\n",
       "    <tr>\n",
       "      <th>5</th>\n",
       "      <td>Avengers-End Game</td>\n",
       "      <td>9.0</td>\n",
       "    </tr>\n",
       "    <tr>\n",
       "      <th>6</th>\n",
       "      <td>Tenet</td>\n",
       "      <td>8.5</td>\n",
       "    </tr>\n",
       "    <tr>\n",
       "      <th>8</th>\n",
       "      <td>Intersteller</td>\n",
       "      <td>7.0</td>\n",
       "    </tr>\n",
       "    <tr>\n",
       "      <th>9</th>\n",
       "      <td>Gravity</td>\n",
       "      <td>6.0</td>\n",
       "    </tr>\n",
       "    <tr>\n",
       "      <th>10</th>\n",
       "      <td>Titanic</td>\n",
       "      <td>9.0</td>\n",
       "    </tr>\n",
       "    <tr>\n",
       "      <th>12</th>\n",
       "      <td>Housefull</td>\n",
       "      <td>6.0</td>\n",
       "    </tr>\n",
       "    <tr>\n",
       "      <th>13</th>\n",
       "      <td>The Dictator</td>\n",
       "      <td>7.0</td>\n",
       "    </tr>\n",
       "  </tbody>\n",
       "</table>\n",
       "</div>"
      ],
      "text/plain": [
       "                 name  rarting\n",
       "id                            \n",
       "5   Avengers-End Game      9.0\n",
       "6               Tenet      8.5\n",
       "8        Intersteller      7.0\n",
       "9             Gravity      6.0\n",
       "10            Titanic      9.0\n",
       "12          Housefull      6.0\n",
       "13       The Dictator      7.0"
      ]
     },
     "execution_count": 86,
     "metadata": {},
     "output_type": "execute_result"
    }
   ],
   "source": [
    "movies[movies['language'].str.lower()=='english'][['name','rarting']]"
   ]
  },
  {
   "cell_type": "code",
   "execution_count": 87,
   "id": "15e6884c-80b6-4bb5-a9e1-888288e0aa06",
   "metadata": {},
   "outputs": [
    {
     "data": {
      "text/html": [
       "<div>\n",
       "<style scoped>\n",
       "    .dataframe tbody tr th:only-of-type {\n",
       "        vertical-align: middle;\n",
       "    }\n",
       "\n",
       "    .dataframe tbody tr th {\n",
       "        vertical-align: top;\n",
       "    }\n",
       "\n",
       "    .dataframe thead th {\n",
       "        text-align: right;\n",
       "    }\n",
       "</style>\n",
       "<table border=\"1\" class=\"dataframe\">\n",
       "  <thead>\n",
       "    <tr style=\"text-align: right;\">\n",
       "      <th></th>\n",
       "      <th>name</th>\n",
       "      <th>rarting</th>\n",
       "    </tr>\n",
       "    <tr>\n",
       "      <th>id</th>\n",
       "      <th></th>\n",
       "      <th></th>\n",
       "    </tr>\n",
       "  </thead>\n",
       "  <tbody>\n",
       "    <tr>\n",
       "      <th>5</th>\n",
       "      <td>Avengers-End Game</td>\n",
       "      <td>9.0</td>\n",
       "    </tr>\n",
       "    <tr>\n",
       "      <th>10</th>\n",
       "      <td>Titanic</td>\n",
       "      <td>9.0</td>\n",
       "    </tr>\n",
       "    <tr>\n",
       "      <th>6</th>\n",
       "      <td>Tenet</td>\n",
       "      <td>8.5</td>\n",
       "    </tr>\n",
       "    <tr>\n",
       "      <th>8</th>\n",
       "      <td>Intersteller</td>\n",
       "      <td>7.0</td>\n",
       "    </tr>\n",
       "    <tr>\n",
       "      <th>13</th>\n",
       "      <td>The Dictator</td>\n",
       "      <td>7.0</td>\n",
       "    </tr>\n",
       "    <tr>\n",
       "      <th>9</th>\n",
       "      <td>Gravity</td>\n",
       "      <td>6.0</td>\n",
       "    </tr>\n",
       "    <tr>\n",
       "      <th>12</th>\n",
       "      <td>Housefull</td>\n",
       "      <td>6.0</td>\n",
       "    </tr>\n",
       "  </tbody>\n",
       "</table>\n",
       "</div>"
      ],
      "text/plain": [
       "                 name  rarting\n",
       "id                            \n",
       "5   Avengers-End Game      9.0\n",
       "10            Titanic      9.0\n",
       "6               Tenet      8.5\n",
       "8        Intersteller      7.0\n",
       "13       The Dictator      7.0\n",
       "9             Gravity      6.0\n",
       "12          Housefull      6.0"
      ]
     },
     "execution_count": 87,
     "metadata": {},
     "output_type": "execute_result"
    }
   ],
   "source": [
    "movies[movies['language'].str.lower()=='english'][['name','rarting']].sort_values(by='rarting',ascending=False)"
   ]
  },
  {
   "cell_type": "code",
   "execution_count": null,
   "id": "e118108d-3996-4557-9b34-5db6f6073151",
   "metadata": {},
   "outputs": [],
   "source": []
  }
 ],
 "metadata": {
  "kernelspec": {
   "display_name": "Python 3 (ipykernel)",
   "language": "python",
   "name": "python3"
  },
  "language_info": {
   "codemirror_mode": {
    "name": "ipython",
    "version": 3
   },
   "file_extension": ".py",
   "mimetype": "text/x-python",
   "name": "python",
   "nbconvert_exporter": "python",
   "pygments_lexer": "ipython3",
   "version": "3.9.12"
  }
 },
 "nbformat": 4,
 "nbformat_minor": 5
}
