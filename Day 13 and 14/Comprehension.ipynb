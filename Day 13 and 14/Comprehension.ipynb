{
 "cells": [
  {
   "cell_type": "code",
   "execution_count": 1,
   "id": "731cc68c-6ab7-493d-8dc6-13724a150e35",
   "metadata": {},
   "outputs": [],
   "source": [
    "a=[4,8,2,7,9]"
   ]
  },
  {
   "cell_type": "code",
   "execution_count": 2,
   "id": "6cac6fe4-b9fd-48d3-8fa8-2235643da922",
   "metadata": {},
   "outputs": [],
   "source": [
    "b=[]\n",
    "for i in a:\n",
    "    b.append(i*2)"
   ]
  },
  {
   "cell_type": "code",
   "execution_count": 3,
   "id": "5b38cca0-6fee-4025-ab52-6d9f23d816cc",
   "metadata": {},
   "outputs": [
    {
     "data": {
      "text/plain": [
       "[8, 16, 4, 14, 18]"
      ]
     },
     "execution_count": 3,
     "metadata": {},
     "output_type": "execute_result"
    }
   ],
   "source": [
    "b"
   ]
  },
  {
   "cell_type": "markdown",
   "id": "3e878552-bade-4b0c-af7f-228872d7c6db",
   "metadata": {},
   "source": [
    "# Best Method"
   ]
  },
  {
   "cell_type": "code",
   "execution_count": 4,
   "id": "8891ddd7-e929-478e-ab0e-7363e9e86d1f",
   "metadata": {},
   "outputs": [
    {
     "data": {
      "text/plain": [
       "[8, 16, 4, 14, 18]"
      ]
     },
     "execution_count": 4,
     "metadata": {},
     "output_type": "execute_result"
    }
   ],
   "source": [
    "b=[i*2 for i in a]\n",
    "b"
   ]
  },
  {
   "cell_type": "code",
   "execution_count": null,
   "id": "4bb7a0f8-945a-48e9-9212-8f64bdb24efa",
   "metadata": {},
   "outputs": [],
   "source": []
  }
 ],
 "metadata": {
  "kernelspec": {
   "display_name": "Python 3 (ipykernel)",
   "language": "python",
   "name": "python3"
  },
  "language_info": {
   "codemirror_mode": {
    "name": "ipython",
    "version": 3
   },
   "file_extension": ".py",
   "mimetype": "text/x-python",
   "name": "python",
   "nbconvert_exporter": "python",
   "pygments_lexer": "ipython3",
   "version": "3.9.12"
  }
 },
 "nbformat": 4,
 "nbformat_minor": 5
}
